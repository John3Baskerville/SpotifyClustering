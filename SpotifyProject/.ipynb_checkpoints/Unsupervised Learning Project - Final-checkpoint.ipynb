{
 "cells": [
  {
   "cell_type": "markdown",
   "id": "46794eab",
   "metadata": {},
   "source": [
    "# Grouping My Personal Spotify Library"
   ]
  },
  {
   "cell_type": "markdown",
   "id": "8e7c8b9f",
   "metadata": {},
   "source": [
    "I wanted to take a closer look at my personal spotify library and try to find any interesting groupings or clusters that would be usefull when creating playlist. \n",
    "\n",
    "This analysis is focused on clustering and exploring the attributes behind the music I listen to. With these models, I hope to strategically and quickly create playlists with songs more similar to eachother based off songs in my current library. \n",
    "\n",
    "## The Data\n",
    "The data is collected using a spotify API connection library in python. I saved the data into a .csv file and use pandas for handling. \n",
    "\n",
    "Most of the features are numeric values that rate and measure certain attributes of each track. For example: 'Danceability (float) describes how suitable a track is for dancing based on a combination of musical elements including tempo, rhythm stability, beat strength, and overall regularity. A value of 0.0 is least danceable and 1.0 is most danceable. The distribution of values for this feature look like this:Danceability distribution'."
   ]
  },
  {
   "cell_type": "code",
   "execution_count": 9,
   "id": "838948d2",
   "metadata": {
    "scrolled": false,
    "tags": [
     "remove_input"
    ]
   },
   "outputs": [
    {
     "data": {
      "text/html": [
       "<div>\n",
       "<style scoped>\n",
       "    .dataframe tbody tr th:only-of-type {\n",
       "        vertical-align: middle;\n",
       "    }\n",
       "\n",
       "    .dataframe tbody tr th {\n",
       "        vertical-align: top;\n",
       "    }\n",
       "\n",
       "    .dataframe thead th {\n",
       "        text-align: right;\n",
       "    }\n",
       "</style>\n",
       "<table border=\"1\" class=\"dataframe\">\n",
       "  <thead>\n",
       "    <tr style=\"text-align: right;\">\n",
       "      <th></th>\n",
       "      <th>Unnamed: 0</th>\n",
       "      <th>danceability</th>\n",
       "      <th>energy</th>\n",
       "      <th>key</th>\n",
       "      <th>loudness</th>\n",
       "      <th>mode</th>\n",
       "      <th>speechiness</th>\n",
       "      <th>acousticness</th>\n",
       "      <th>instrumentalness</th>\n",
       "      <th>liveness</th>\n",
       "      <th>valence</th>\n",
       "      <th>tempo</th>\n",
       "      <th>duration_ms</th>\n",
       "      <th>time_signature</th>\n",
       "    </tr>\n",
       "  </thead>\n",
       "  <tbody>\n",
       "    <tr>\n",
       "      <th>count</th>\n",
       "      <td>1546.0</td>\n",
       "      <td>1546.000000</td>\n",
       "      <td>1546.000000</td>\n",
       "      <td>1546.000000</td>\n",
       "      <td>1546.000000</td>\n",
       "      <td>1546.000000</td>\n",
       "      <td>1546.000000</td>\n",
       "      <td>1546.000000</td>\n",
       "      <td>1546.000000</td>\n",
       "      <td>1546.000000</td>\n",
       "      <td>1546.000000</td>\n",
       "      <td>1546.000000</td>\n",
       "      <td>1.546000e+03</td>\n",
       "      <td>1546.000000</td>\n",
       "    </tr>\n",
       "    <tr>\n",
       "      <th>mean</th>\n",
       "      <td>0.0</td>\n",
       "      <td>0.694001</td>\n",
       "      <td>0.635506</td>\n",
       "      <td>5.154592</td>\n",
       "      <td>-6.842761</td>\n",
       "      <td>0.550453</td>\n",
       "      <td>0.159082</td>\n",
       "      <td>0.172590</td>\n",
       "      <td>0.046865</td>\n",
       "      <td>0.190313</td>\n",
       "      <td>0.440288</td>\n",
       "      <td>124.822257</td>\n",
       "      <td>2.196170e+05</td>\n",
       "      <td>3.974774</td>\n",
       "    </tr>\n",
       "    <tr>\n",
       "      <th>std</th>\n",
       "      <td>0.0</td>\n",
       "      <td>0.146338</td>\n",
       "      <td>0.159924</td>\n",
       "      <td>3.638170</td>\n",
       "      <td>2.444221</td>\n",
       "      <td>0.497609</td>\n",
       "      <td>0.131273</td>\n",
       "      <td>0.197361</td>\n",
       "      <td>0.159087</td>\n",
       "      <td>0.140855</td>\n",
       "      <td>0.223067</td>\n",
       "      <td>27.460047</td>\n",
       "      <td>5.721245e+04</td>\n",
       "      <td>0.261952</td>\n",
       "    </tr>\n",
       "    <tr>\n",
       "      <th>min</th>\n",
       "      <td>0.0</td>\n",
       "      <td>0.157000</td>\n",
       "      <td>0.109000</td>\n",
       "      <td>0.000000</td>\n",
       "      <td>-21.447000</td>\n",
       "      <td>0.000000</td>\n",
       "      <td>0.024400</td>\n",
       "      <td>0.000025</td>\n",
       "      <td>0.000000</td>\n",
       "      <td>0.016000</td>\n",
       "      <td>0.026600</td>\n",
       "      <td>55.679000</td>\n",
       "      <td>5.564000e+04</td>\n",
       "      <td>1.000000</td>\n",
       "    </tr>\n",
       "    <tr>\n",
       "      <th>25%</th>\n",
       "      <td>0.0</td>\n",
       "      <td>0.598000</td>\n",
       "      <td>0.529000</td>\n",
       "      <td>1.000000</td>\n",
       "      <td>-8.163750</td>\n",
       "      <td>0.000000</td>\n",
       "      <td>0.051500</td>\n",
       "      <td>0.024400</td>\n",
       "      <td>0.000000</td>\n",
       "      <td>0.101000</td>\n",
       "      <td>0.265000</td>\n",
       "      <td>103.955000</td>\n",
       "      <td>1.865490e+05</td>\n",
       "      <td>4.000000</td>\n",
       "    </tr>\n",
       "    <tr>\n",
       "      <th>50%</th>\n",
       "      <td>0.0</td>\n",
       "      <td>0.708000</td>\n",
       "      <td>0.636000</td>\n",
       "      <td>5.000000</td>\n",
       "      <td>-6.567000</td>\n",
       "      <td>1.000000</td>\n",
       "      <td>0.107000</td>\n",
       "      <td>0.092100</td>\n",
       "      <td>0.000004</td>\n",
       "      <td>0.134000</td>\n",
       "      <td>0.417500</td>\n",
       "      <td>125.990000</td>\n",
       "      <td>2.138250e+05</td>\n",
       "      <td>4.000000</td>\n",
       "    </tr>\n",
       "    <tr>\n",
       "      <th>75%</th>\n",
       "      <td>0.0</td>\n",
       "      <td>0.805750</td>\n",
       "      <td>0.750000</td>\n",
       "      <td>8.000000</td>\n",
       "      <td>-5.188750</td>\n",
       "      <td>1.000000</td>\n",
       "      <td>0.247000</td>\n",
       "      <td>0.258000</td>\n",
       "      <td>0.001450</td>\n",
       "      <td>0.237750</td>\n",
       "      <td>0.599000</td>\n",
       "      <td>142.977250</td>\n",
       "      <td>2.467598e+05</td>\n",
       "      <td>4.000000</td>\n",
       "    </tr>\n",
       "    <tr>\n",
       "      <th>max</th>\n",
       "      <td>0.0</td>\n",
       "      <td>0.980000</td>\n",
       "      <td>0.994000</td>\n",
       "      <td>11.000000</td>\n",
       "      <td>-0.283000</td>\n",
       "      <td>1.000000</td>\n",
       "      <td>0.855000</td>\n",
       "      <td>0.944000</td>\n",
       "      <td>0.973000</td>\n",
       "      <td>0.966000</td>\n",
       "      <td>0.980000</td>\n",
       "      <td>215.593000</td>\n",
       "      <td>1.146163e+06</td>\n",
       "      <td>5.000000</td>\n",
       "    </tr>\n",
       "  </tbody>\n",
       "</table>\n",
       "</div>"
      ],
      "text/plain": [
       "       Unnamed: 0  danceability       energy          key     loudness  \\\n",
       "count      1546.0   1546.000000  1546.000000  1546.000000  1546.000000   \n",
       "mean          0.0      0.694001     0.635506     5.154592    -6.842761   \n",
       "std           0.0      0.146338     0.159924     3.638170     2.444221   \n",
       "min           0.0      0.157000     0.109000     0.000000   -21.447000   \n",
       "25%           0.0      0.598000     0.529000     1.000000    -8.163750   \n",
       "50%           0.0      0.708000     0.636000     5.000000    -6.567000   \n",
       "75%           0.0      0.805750     0.750000     8.000000    -5.188750   \n",
       "max           0.0      0.980000     0.994000    11.000000    -0.283000   \n",
       "\n",
       "              mode  speechiness  acousticness  instrumentalness     liveness  \\\n",
       "count  1546.000000  1546.000000   1546.000000       1546.000000  1546.000000   \n",
       "mean      0.550453     0.159082      0.172590          0.046865     0.190313   \n",
       "std       0.497609     0.131273      0.197361          0.159087     0.140855   \n",
       "min       0.000000     0.024400      0.000025          0.000000     0.016000   \n",
       "25%       0.000000     0.051500      0.024400          0.000000     0.101000   \n",
       "50%       1.000000     0.107000      0.092100          0.000004     0.134000   \n",
       "75%       1.000000     0.247000      0.258000          0.001450     0.237750   \n",
       "max       1.000000     0.855000      0.944000          0.973000     0.966000   \n",
       "\n",
       "           valence        tempo   duration_ms  time_signature  \n",
       "count  1546.000000  1546.000000  1.546000e+03     1546.000000  \n",
       "mean      0.440288   124.822257  2.196170e+05        3.974774  \n",
       "std       0.223067    27.460047  5.721245e+04        0.261952  \n",
       "min       0.026600    55.679000  5.564000e+04        1.000000  \n",
       "25%       0.265000   103.955000  1.865490e+05        4.000000  \n",
       "50%       0.417500   125.990000  2.138250e+05        4.000000  \n",
       "75%       0.599000   142.977250  2.467598e+05        4.000000  \n",
       "max       0.980000   215.593000  1.146163e+06        5.000000  "
      ]
     },
     "execution_count": 9,
     "metadata": {},
     "output_type": "execute_result"
    }
   ],
   "source": [
    "import pandas as pd\n",
    "df = pd.read_csv(\"spotifyLibrary.csv\", encoding='utf-8')\n",
    "df.describe()"
   ]
  },
  {
   "cell_type": "markdown",
   "id": "786ce83d",
   "metadata": {},
   "source": [
    "## Data exploration and actions taken for data cleaning\n",
    "For data cleaning, I elimintated a few non-float varibles like 'href' and 'id' which wouldnt help the clustering algorithm. After all the numeric data were identified, one of the first exploration techniques I use to understand the data involves looking at the feature correlations. If I wasnt using PCA later on, I would consider the correlation between loudness and energy as 'high' and look at alternative feature engineering techniques.Next, I fed the data through a pipeline that systematically log transformed and scaled the data using MinMaxScaler and numpy.log1p().\n",
    "\n",
    "# Models\n",
    "\n",
    "## K-Means.\n",
    "The first model I created was k-means with number of clusters set to 4. As expected the 4 playlists created were very large and not very useful but I found it interesting their sizes varied from 82-635."
   ]
  },
  {
   "cell_type": "markdown",
   "id": "2af9cd4d",
   "metadata": {},
   "source": [
    "Next I wanted to look at inertia (tightness of clusters) and try to create playlists with clusters of smaller inertia keeping in mind there are over 1,500 records. I found the inertia for 1 cluster all the way through 50 clusters. and plotted on a graph."
   ]
  },
  {
   "cell_type": "markdown",
   "id": "6babb719",
   "metadata": {},
   "source": [
    "The inertia is lowest with the model that finds 50 clusters and the range of songs in the created playlist was 11-56. When I look at the playlists created I found similarities in the songs that were grouped together. I also found duplicates in a few of the playlists which gave me confidence in the clustering algorithm.\n",
    "\n",
    "## Mean-Shift.\n",
    "The second model implemented was a mean-shift algorithm where the number of clusters was decided by the model and the parameter 'quantile' (0-1) was tuned to 0.1. The 10 playlists created were a little similar in size ranging from 82-247.\n",
    "\n",
    "## KPCA.\n",
    "The last models I trained used data with fewer features and experimented with deminsionality reduction using Kernel PCA. I experimented with data that ranged from 1-10 features and viewed the outputed playlists to try and find any interesting playlist combinations. I was able to find a a lot of uniqe playlist that grouped songs with similar sounds together. My library is mostly hip hop and rap but the latest models were able to put groups of songs together that were not typical sound of the overall library."
   ]
  },
  {
   "cell_type": "markdown",
   "id": "fff64be4",
   "metadata": {},
   "source": [
    "# Final model\n",
    "The best model is K-Means for this application because the user will have the biggest control over playlist size and k-means gernerally groups songs in similar cluster sizes. After investigating the playlists, the k-means model was able to create reliable groups of songs that I would consider putting into my library for personal use."
   ]
  },
  {
   "cell_type": "markdown",
   "id": "7f08cf31",
   "metadata": {},
   "source": [
    "# Summary - Key Findings, Insights and Next Steps \n",
    "I found skipping the log tranformation step made the k-means model more likely to pick out and place 'the beep test'(a unique running exercise saved as a song) into its own cluster of 1 song. Implementing the log transformation to the data caused a more smooth and rounded set of playlist but track was incorrectly grouped together with other songs while it felt more like an outlier.\n",
    "\n",
    "I found it incouraging that multiple songs made by the same artists made it into the same playlist and outlier songs were picked out.\n",
    "\n",
    "#### Next Steps\n",
    "* Implementing a Playlist name creator using NLP that would name the playlist based on the highest rated feature along with song names.\n",
    "* Find a reliable source of play counts that could be used as an additional weighted feature. \n",
    "* Put the newly created playlists back onto my spotify account "
   ]
  },
  {
   "cell_type": "markdown",
   "id": "ebdf32d3",
   "metadata": {},
   "source": [
    "#### Sample Playlist:"
   ]
  },
  {
   "cell_type": "markdown",
   "id": "8b36659d",
   "metadata": {},
   "source": [
    "# long description of the data \n",
    "### duration_ms\n",
    "int\tThe duration of the track in milliseconds.\n",
    "### acousticness\n",
    "float\tA confidence measure from 0.0 to 1.0 of whether the track is acoustic. 1.0 represents high confidence the track is acoustic. The distribution of values for this feature look like this:Acousticness distribution\n",
    "### danceability\n",
    "float\tDanceability describes how suitable a track is for dancing based on a combination of musical elements including tempo, rhythm stability, beat strength, and overall regularity. A value of 0.0 is least danceable and 1.0 is most danceable. The distribution of values for this feature look like this:Danceability distribution\n",
    "### energy\n",
    "float\tEnergy is a measure from 0.0 to 1.0 and represents a perceptual measure of intensity and activity. Typically, energetic tracks feel fast, loud, and noisy. For example, death metal has high energy, while a Bach prelude scores low on the scale. Perceptual features contributing to this attribute include dynamic range, perceived loudness, timbre, onset rate, and general entropy. The distribution of values for this feature look like this:Energy distribution\n",
    "### instrumentalness\n",
    "float\tPredicts whether a track contains no vocals. “Ooh” and “aah” sounds are treated as instrumental in this context. Rap or spoken word tracks are clearly “vocal”. The closer the instrumentalness value is to 1.0, the greater likelihood the track contains no vocal content. Values above 0.5 are intended to represent instrumental tracks, but confidence is higher as the value approaches 1.0. The distribution of values for this feature look like this:Instrumentalness distribution\n",
    "### liveness\n",
    "float\tDetects the presence of an audience in the recording. Higher liveness values represent an increased probability that the track was performed live. A value above 0.8 provides strong likelihood that the track is live. The distribution of values for this feature look like this:Liveness distribution\n",
    "### loudness\n",
    "float\tThe overall loudness of a track in decibels (dB). Loudness values are averaged across the entire track and are useful for comparing relative loudness of tracks. Loudness is the quality of a sound that is the primary psychological correlate of physical strength (amplitude). Values typical range between -60 and 0 db. The distribution of values for this feature look like this:Loudness distribution\n",
    "### speechiness\n",
    "float\tSpeechiness detects the presence of spoken words in a track. The more exclusively speech-like the recording (e.g. talk show, audio book, poetry), the closer to 1.0 the attribute value. Values above 0.66 describe tracks that are probably made entirely of spoken words. Values between 0.33 and 0.66 describe tracks that may contain both music and speech, either in sections or layered, including such cases as rap music. Values below 0.33 most likely represent music and other non-speech-like tracks. The distribution of values for this feature look like this:Speechiness distribution\n",
    "### valence\n",
    "float\tA measure from 0.0 to 1.0 describing the musical positiveness conveyed by a track. Tracks with high valence sound more positive (e.g. happy, cheerful, euphoric), while tracks with low valence sound more negative (e.g. sad, depressed, angry). The distribution of values for this feature look like this:Valence distribution\n",
    "### tempo\n",
    "float\tThe overall estimated tempo of a track in beats per minute (BPM). In musical terminology, tempo is the speed or pace of a given piece and derives directly from the average beat duration. The distribution of values for this feature look like this:Tempo distribution"
   ]
  },
  {
   "cell_type": "markdown",
   "id": "56ffaaa6",
   "metadata": {},
   "source": [
    "# Import data"
   ]
  },
  {
   "cell_type": "code",
   "execution_count": 6,
   "id": "d4b26257",
   "metadata": {
    "scrolled": true
   },
   "outputs": [
    {
     "data": {
      "text/plain": [
       "<Figure size 1080x720 with 0 Axes>"
      ]
     },
     "metadata": {},
     "output_type": "display_data"
    }
   ],
   "source": [
    "import pandas as pd\n",
    "df = pd.read_csv(\"spotifyLibrary.csv\", encoding='utf-8')\n",
    "\n",
    "numeric_data = [x for x in df.columns if x not in [\"key\",\"mode\",\"time_signature\",\n",
    "                                                   \"type\",\"uri\",\"id\",\"track_href\",\"Unnamed: 0\",\n",
    "                                                   \"analysis_url\"]]\n",
    "\n",
    "numeric_data_df = df[numeric_data].set_index(df['id'])\n",
    "numeric_data_df\n",
    "\n",
    "from matplotlib import pyplot as plt\n",
    "import seaborn as sns\n",
    "import numpy as np\n",
    "\n",
    "#create figure for heatmap plot\n",
    "plt.figure(figsize = (15,10)) # width x height\n",
    "\n",
    "corr = numeric_data_df.corr()\n",
    "cmap = sns.diverging_palette(220, 10, as_cmap=True)\n",
    "mask = np.triu(np.ones_like(corr, dtype=bool))\n",
    "# use heatmatp function to visualize correlations\n",
    "#corrHeatmap = sns.heatmap(corr, mask= mask, cmap=cmap,annot=True)"
   ]
  },
  {
   "cell_type": "code",
   "execution_count": 7,
   "id": "2e6b0af2",
   "metadata": {
    "scrolled": true
   },
   "outputs": [
    {
     "data": {
      "text/html": [
       "<div>\n",
       "<style scoped>\n",
       "    .dataframe tbody tr th:only-of-type {\n",
       "        vertical-align: middle;\n",
       "    }\n",
       "\n",
       "    .dataframe tbody tr th {\n",
       "        vertical-align: top;\n",
       "    }\n",
       "\n",
       "    .dataframe thead th {\n",
       "        text-align: right;\n",
       "    }\n",
       "</style>\n",
       "<table border=\"1\" class=\"dataframe\">\n",
       "  <thead>\n",
       "    <tr style=\"text-align: right;\">\n",
       "      <th></th>\n",
       "      <th>danceability</th>\n",
       "      <th>energy</th>\n",
       "      <th>loudness</th>\n",
       "      <th>speechiness</th>\n",
       "      <th>acousticness</th>\n",
       "      <th>instrumentalness</th>\n",
       "      <th>liveness</th>\n",
       "      <th>valence</th>\n",
       "      <th>tempo</th>\n",
       "      <th>duration_ms</th>\n",
       "    </tr>\n",
       "    <tr>\n",
       "      <th>id</th>\n",
       "      <th></th>\n",
       "      <th></th>\n",
       "      <th></th>\n",
       "      <th></th>\n",
       "      <th></th>\n",
       "      <th></th>\n",
       "      <th></th>\n",
       "      <th></th>\n",
       "      <th></th>\n",
       "      <th></th>\n",
       "    </tr>\n",
       "  </thead>\n",
       "  <tbody>\n",
       "    <tr>\n",
       "      <th>7aNW0M1R6eUnoXKpN2HncV</th>\n",
       "      <td>0.656</td>\n",
       "      <td>0.595</td>\n",
       "      <td>-6.627</td>\n",
       "      <td>0.0297</td>\n",
       "      <td>0.01780</td>\n",
       "      <td>0.000000</td>\n",
       "      <td>0.2300</td>\n",
       "      <td>0.559</td>\n",
       "      <td>115.064</td>\n",
       "      <td>211639</td>\n",
       "    </tr>\n",
       "    <tr>\n",
       "      <th>5bzXWaxInedSVFe7w18hgf</th>\n",
       "      <td>0.548</td>\n",
       "      <td>0.580</td>\n",
       "      <td>-7.637</td>\n",
       "      <td>0.0251</td>\n",
       "      <td>0.04800</td>\n",
       "      <td>0.023800</td>\n",
       "      <td>0.2370</td>\n",
       "      <td>0.446</td>\n",
       "      <td>87.997</td>\n",
       "      <td>165306</td>\n",
       "    </tr>\n",
       "    <tr>\n",
       "      <th>2Wp2IjSLARq1XaoIMaDgCp</th>\n",
       "      <td>0.697</td>\n",
       "      <td>0.530</td>\n",
       "      <td>-8.150</td>\n",
       "      <td>0.3130</td>\n",
       "      <td>0.00831</td>\n",
       "      <td>0.000000</td>\n",
       "      <td>0.0984</td>\n",
       "      <td>0.469</td>\n",
       "      <td>75.852</td>\n",
       "      <td>183915</td>\n",
       "    </tr>\n",
       "    <tr>\n",
       "      <th>0b18g3G5spr4ZCkz7Y6Q0Q</th>\n",
       "      <td>0.758</td>\n",
       "      <td>0.913</td>\n",
       "      <td>-2.926</td>\n",
       "      <td>0.1130</td>\n",
       "      <td>0.00364</td>\n",
       "      <td>0.000069</td>\n",
       "      <td>0.1930</td>\n",
       "      <td>0.658</td>\n",
       "      <td>128.040</td>\n",
       "      <td>186210</td>\n",
       "    </tr>\n",
       "    <tr>\n",
       "      <th>4Hff1IjRbLGeLgFgxvHflk</th>\n",
       "      <td>0.760</td>\n",
       "      <td>0.891</td>\n",
       "      <td>-5.852</td>\n",
       "      <td>0.0372</td>\n",
       "      <td>0.02290</td>\n",
       "      <td>0.086900</td>\n",
       "      <td>0.2980</td>\n",
       "      <td>0.966</td>\n",
       "      <td>120.264</td>\n",
       "      <td>245000</td>\n",
       "    </tr>\n",
       "    <tr>\n",
       "      <th>...</th>\n",
       "      <td>...</td>\n",
       "      <td>...</td>\n",
       "      <td>...</td>\n",
       "      <td>...</td>\n",
       "      <td>...</td>\n",
       "      <td>...</td>\n",
       "      <td>...</td>\n",
       "      <td>...</td>\n",
       "      <td>...</td>\n",
       "      <td>...</td>\n",
       "    </tr>\n",
       "    <tr>\n",
       "      <th>2rmq49FcJ4U3wh1Z7C9UxE</th>\n",
       "      <td>0.644</td>\n",
       "      <td>0.479</td>\n",
       "      <td>-8.352</td>\n",
       "      <td>0.1770</td>\n",
       "      <td>0.16900</td>\n",
       "      <td>0.000000</td>\n",
       "      <td>0.6390</td>\n",
       "      <td>0.612</td>\n",
       "      <td>79.929</td>\n",
       "      <td>180680</td>\n",
       "    </tr>\n",
       "    <tr>\n",
       "      <th>3Z2sglqDj1rDRMF5x0Sz2R</th>\n",
       "      <td>0.473</td>\n",
       "      <td>0.461</td>\n",
       "      <td>-6.474</td>\n",
       "      <td>0.3330</td>\n",
       "      <td>0.14900</td>\n",
       "      <td>0.000000</td>\n",
       "      <td>0.0973</td>\n",
       "      <td>0.615</td>\n",
       "      <td>165.985</td>\n",
       "      <td>234213</td>\n",
       "    </tr>\n",
       "    <tr>\n",
       "      <th>14Rcq31SafFBHNEwXrtR2B</th>\n",
       "      <td>0.776</td>\n",
       "      <td>0.413</td>\n",
       "      <td>-7.438</td>\n",
       "      <td>0.0952</td>\n",
       "      <td>0.00415</td>\n",
       "      <td>0.000027</td>\n",
       "      <td>0.0724</td>\n",
       "      <td>0.287</td>\n",
       "      <td>100.003</td>\n",
       "      <td>227880</td>\n",
       "    </tr>\n",
       "    <tr>\n",
       "      <th>439TlnnznSiBbQbgXiBqAd</th>\n",
       "      <td>0.487</td>\n",
       "      <td>0.729</td>\n",
       "      <td>-6.815</td>\n",
       "      <td>0.2710</td>\n",
       "      <td>0.05380</td>\n",
       "      <td>0.000004</td>\n",
       "      <td>0.4400</td>\n",
       "      <td>0.217</td>\n",
       "      <td>91.048</td>\n",
       "      <td>350120</td>\n",
       "    </tr>\n",
       "    <tr>\n",
       "      <th>29gsi1zZrZxdStACmTQB0Z</th>\n",
       "      <td>0.709</td>\n",
       "      <td>0.589</td>\n",
       "      <td>-7.776</td>\n",
       "      <td>0.0433</td>\n",
       "      <td>0.05070</td>\n",
       "      <td>0.000000</td>\n",
       "      <td>0.0585</td>\n",
       "      <td>0.580</td>\n",
       "      <td>133.922</td>\n",
       "      <td>278067</td>\n",
       "    </tr>\n",
       "  </tbody>\n",
       "</table>\n",
       "<p>1546 rows × 10 columns</p>\n",
       "</div>"
      ],
      "text/plain": [
       "                        danceability  energy  loudness  speechiness  \\\n",
       "id                                                                    \n",
       "7aNW0M1R6eUnoXKpN2HncV         0.656   0.595    -6.627       0.0297   \n",
       "5bzXWaxInedSVFe7w18hgf         0.548   0.580    -7.637       0.0251   \n",
       "2Wp2IjSLARq1XaoIMaDgCp         0.697   0.530    -8.150       0.3130   \n",
       "0b18g3G5spr4ZCkz7Y6Q0Q         0.758   0.913    -2.926       0.1130   \n",
       "4Hff1IjRbLGeLgFgxvHflk         0.760   0.891    -5.852       0.0372   \n",
       "...                              ...     ...       ...          ...   \n",
       "2rmq49FcJ4U3wh1Z7C9UxE         0.644   0.479    -8.352       0.1770   \n",
       "3Z2sglqDj1rDRMF5x0Sz2R         0.473   0.461    -6.474       0.3330   \n",
       "14Rcq31SafFBHNEwXrtR2B         0.776   0.413    -7.438       0.0952   \n",
       "439TlnnznSiBbQbgXiBqAd         0.487   0.729    -6.815       0.2710   \n",
       "29gsi1zZrZxdStACmTQB0Z         0.709   0.589    -7.776       0.0433   \n",
       "\n",
       "                        acousticness  instrumentalness  liveness  valence  \\\n",
       "id                                                                          \n",
       "7aNW0M1R6eUnoXKpN2HncV       0.01780          0.000000    0.2300    0.559   \n",
       "5bzXWaxInedSVFe7w18hgf       0.04800          0.023800    0.2370    0.446   \n",
       "2Wp2IjSLARq1XaoIMaDgCp       0.00831          0.000000    0.0984    0.469   \n",
       "0b18g3G5spr4ZCkz7Y6Q0Q       0.00364          0.000069    0.1930    0.658   \n",
       "4Hff1IjRbLGeLgFgxvHflk       0.02290          0.086900    0.2980    0.966   \n",
       "...                              ...               ...       ...      ...   \n",
       "2rmq49FcJ4U3wh1Z7C9UxE       0.16900          0.000000    0.6390    0.612   \n",
       "3Z2sglqDj1rDRMF5x0Sz2R       0.14900          0.000000    0.0973    0.615   \n",
       "14Rcq31SafFBHNEwXrtR2B       0.00415          0.000027    0.0724    0.287   \n",
       "439TlnnznSiBbQbgXiBqAd       0.05380          0.000004    0.4400    0.217   \n",
       "29gsi1zZrZxdStACmTQB0Z       0.05070          0.000000    0.0585    0.580   \n",
       "\n",
       "                          tempo  duration_ms  \n",
       "id                                            \n",
       "7aNW0M1R6eUnoXKpN2HncV  115.064       211639  \n",
       "5bzXWaxInedSVFe7w18hgf   87.997       165306  \n",
       "2Wp2IjSLARq1XaoIMaDgCp   75.852       183915  \n",
       "0b18g3G5spr4ZCkz7Y6Q0Q  128.040       186210  \n",
       "4Hff1IjRbLGeLgFgxvHflk  120.264       245000  \n",
       "...                         ...          ...  \n",
       "2rmq49FcJ4U3wh1Z7C9UxE   79.929       180680  \n",
       "3Z2sglqDj1rDRMF5x0Sz2R  165.985       234213  \n",
       "14Rcq31SafFBHNEwXrtR2B  100.003       227880  \n",
       "439TlnnznSiBbQbgXiBqAd   91.048       350120  \n",
       "29gsi1zZrZxdStACmTQB0Z  133.922       278067  \n",
       "\n",
       "[1546 rows x 10 columns]"
      ]
     },
     "execution_count": 7,
     "metadata": {},
     "output_type": "execute_result"
    }
   ],
   "source": [
    "numeric_data_df"
   ]
  },
  {
   "cell_type": "code",
   "execution_count": null,
   "id": "118020df",
   "metadata": {
    "scrolled": true
   },
   "outputs": [],
   "source": [
    "for x in range(len(corr)):\n",
    "    corr.iloc[x,x] = 0.0\n",
    "    \n",
    "corr.abs().max().sort_values(ascending=False)"
   ]
  },
  {
   "cell_type": "code",
   "execution_count": null,
   "id": "fe157ae4",
   "metadata": {
    "scrolled": true
   },
   "outputs": [],
   "source": [
    "sns.set_context('notebook')\n",
    "sns.set_style('white')\n",
    "sns.pairplot(scaledFeatures_df);"
   ]
  },
  {
   "cell_type": "code",
   "execution_count": null,
   "id": "15a30e76",
   "metadata": {
    "scrolled": true
   },
   "outputs": [],
   "source": [
    "scaledFeatures_df.instrumentalness.describe()\n",
    "sqrt(scaledFeatures_df.liveness).hist()"
   ]
  },
  {
   "cell_type": "code",
   "execution_count": null,
   "id": "46b5882d",
   "metadata": {
    "scrolled": true
   },
   "outputs": [],
   "source": [
    "np.sqrt(scaledFeatures_df.liveness).hist()"
   ]
  },
  {
   "cell_type": "markdown",
   "id": "1357338e",
   "metadata": {},
   "source": [
    "# PCA (for cluster visualization)"
   ]
  },
  {
   "cell_type": "code",
   "execution_count": null,
   "id": "8e6db38d",
   "metadata": {
    "scrolled": true
   },
   "outputs": [],
   "source": [
    "# skew_columns = numeric_data_df.skew().sort_values(ascending=False)\n",
    "# skew_columns = skew_columns.loc[skew_columns > 0.75]\n",
    "# skew_columns\n",
    "\n",
    "# for col in skew_columns.index.tolist():\n",
    "#     numeric_data_df[col] = np.log1p(numeric_data_df[col])"
   ]
  },
  {
   "cell_type": "markdown",
   "id": "cf9aee67",
   "metadata": {},
   "source": [
    "# Scaling Features"
   ]
  },
  {
   "cell_type": "code",
   "execution_count": null,
   "id": "f7ee0ac6",
   "metadata": {
    "scrolled": true
   },
   "outputs": [],
   "source": [
    "from sklearn.preprocessing import MinMaxScaler\n",
    "\n",
    "sc = MinMaxScaler()\n",
    "scaledFeatures = sc.fit_transform(numeric_data_df)\n",
    "scaledFeatures_df = pd.DataFrame(scaledFeatures, index=numeric_data_df.index, columns=numeric_data_df.columns)\n",
    "scaledFeatures_df"
   ]
  },
  {
   "cell_type": "markdown",
   "id": "95b59901",
   "metadata": {},
   "source": [
    "## K-Means"
   ]
  },
  {
   "cell_type": "code",
   "execution_count": null,
   "id": "1fde175e",
   "metadata": {
    "scrolled": true
   },
   "outputs": [],
   "source": [
    "from sklearn.cluster import KMeans\n",
    "\n",
    "km = KMeans(n_clusters=50,random_state=42)\n",
    "km = km.fit(scaledFeatures_df)\n",
    "\n",
    "df['kmeans'] = km.predict(scaledFeatures_df)\n",
    "\n",
    "df.groupby(['kmeans']).size()"
   ]
  },
  {
   "cell_type": "code",
   "execution_count": null,
   "id": "06ab181f",
   "metadata": {
    "scrolled": false
   },
   "outputs": [],
   "source": [
    "# #create and fit a range of models\n",
    "# km_list = list()\n",
    "\n",
    "# for clust in range(1,50):\n",
    "#     km = KMeans(n_clusters = clust, random_state=42)\n",
    "#     km = km.fit(numeric_data_df)\n",
    "#     km_list.append(pd.Series({\n",
    "#         'clusters':clust,\n",
    "#         'inertia':km.inertia_,\n",
    "#         'model':km\n",
    "#     }))\n",
    "    \n",
    "# plot_data = (pd.concat(km_list,axis=1)\n",
    "#         .T[['clusters','inertia']]\n",
    "#         .set_index('clusters'))\n",
    "\n",
    "# ax = plot_data.plot(marker='o',ls='-')\n",
    "# ax.set_xticks(range(0,51,2))\n",
    "# ax.set_xlim(0,51)\n",
    "# ax.set(xlabel='Cluster',ylabel='Inertia')"
   ]
  },
  {
   "cell_type": "code",
   "execution_count": null,
   "id": "5629b8dc",
   "metadata": {
    "scrolled": true
   },
   "outputs": [],
   "source": [
    "import plotly.express as px\n",
    "\n",
    "pca = PCA(n_components=2)\n",
    "components = pca.fit_transform(scaledFeatures_df)\n",
    "\n",
    "fig = px.scatter(components, x=0, y=1, color = df['kmeans'])\n",
    "fig.show()"
   ]
  },
  {
   "cell_type": "markdown",
   "id": "b6960ee0",
   "metadata": {},
   "source": [
    "## Mean Shift"
   ]
  },
  {
   "cell_type": "code",
   "execution_count": null,
   "id": "cf822f24",
   "metadata": {
    "scrolled": true
   },
   "outputs": [],
   "source": [
    "from sklearn.cluster import MeanShift, estimate_bandwidth\n",
    "\n",
    "bandwidth = estimate_bandwidth(numeric_data_df, quantile=.03, n_samples=1500)\n",
    "ms = MeanShift(bandwidth=bandwidth, bin_seeding=True)\n",
    "msFit = ms.fit(numeric_data_df)\n",
    "df['MeanShift'] = msFit.predict(numeric_data_df)"
   ]
  },
  {
   "cell_type": "code",
   "execution_count": null,
   "id": "fc59a0ec",
   "metadata": {
    "scrolled": true
   },
   "outputs": [],
   "source": [
    "df.groupby(['MeanShift']).size().to_frame"
   ]
  },
  {
   "cell_type": "markdown",
   "id": "d89e284e",
   "metadata": {},
   "source": [
    "## Dimensionality Reduction\n",
    "### Pipeline Transformations\n",
    "Although the data is not very large, I explore some DR techniques"
   ]
  },
  {
   "cell_type": "code",
   "execution_count": null,
   "id": "8ee35e35",
   "metadata": {
    "scrolled": true
   },
   "outputs": [],
   "source": [
    "# from sklearn.preprocessing import FunctionTransformer\n",
    "# from sklearn.pipeline import Pipeline\n",
    "\n",
    "# #custom log transformer\n",
    "# log_transformer = FunctionTransformer(np.log1p)\n",
    "\n",
    "# #Pipeline\n",
    "# estimators = [('minmaxscale', MinMaxScaler())]\n",
    "# pipeline = Pipeline(estimators)\n",
    "\n",
    "# #convert Original data using the newly created pipeline from above\n",
    "# pipe_data = pipeline.fit_transform(numeric_data_df)\n",
    "# data_pipe_df = pd.DataFrame(data_pipe, index=numeric_data_df.index, columns=PipeData.columns)"
   ]
  },
  {
   "cell_type": "code",
   "execution_count": null,
   "id": "40138b3e",
   "metadata": {
    "scrolled": true
   },
   "outputs": [],
   "source": []
  },
  {
   "cell_type": "markdown",
   "id": "f638f9db",
   "metadata": {},
   "source": [
    "## KPCA"
   ]
  },
  {
   "cell_type": "code",
   "execution_count": null,
   "id": "601d7749",
   "metadata": {
    "scrolled": true
   },
   "outputs": [],
   "source": [
    "from sklearn.decomposition import KernelPCA\n",
    "from sklearn.model_selection import GridSearchCV\n",
    "from sklearn.metrics import mean_squared_error\n",
    "\n",
    "# Custom scorer--use negative rmse of inverse transform\n",
    "def scorer(pcamodel, X, y=None):\n",
    "    try:\n",
    "        X_val = X.values\n",
    "    except:\n",
    "        X_val = X\n",
    "    # Calculate and inverse transform the data\n",
    "    data_inv = pcamodel.fit(X_val).transform(X_val)\n",
    "    data_inv = pcamodel.inverse_transform(data_inv)\n",
    "    \n",
    "    # The error calculation\n",
    "    mse = mean_squared_error(data_inv.ravel(), X_val.ravel())\n",
    "    \n",
    "    # Larger values are better for scorers, so take negative value\n",
    "    return -1.0 * mse\n",
    "\n",
    "# The grid search parameters\n",
    "param_grid = {'gamma':[0.001, 0.01, 0.05, 0.1, 0.5, 1.0],\n",
    "              'n_components': [2, 3, 4,5,6,7,8,9,10]}\n",
    "\n",
    "# The grid search\n",
    "kernelPCA = GridSearchCV(KernelPCA(kernel='rbf', fit_inverse_transform=True),\n",
    "                         param_grid=param_grid,\n",
    "                         scoring=scorer,\n",
    "                         n_jobs=-1)\n",
    "\n",
    "kpca_list = list()\n",
    "kpcafeature_weight_list = list()\n",
    "\n",
    "for n in range(1,11):\n",
    "    kPCAmod = KernelPCA(kernel='linear',n_components=n, fit_inverse_transform=True)\n",
    "    # Calculate and inverse transform the data\n",
    "    data_inv = kPCAmod.fit(scaledFeatures_df).transform(data_pipe)\n",
    "    data_inv = kPCAmod.inverse_transform(data_inv)\n",
    "    \n",
    "    # The error calculation\n",
    "    mse = mean_squared_error(data_inv.ravel(), data_pipe.ravel())\n",
    "    \n",
    "    kpca_list.append(pd.Series({'n':n,'model':kPCAmod,'mse':mse}))\n",
    "    kpca_df = pd.concat(kpca_list,axis=1).T.set_index('n')\n",
    "kpca_df"
   ]
  },
  {
   "cell_type": "code",
   "execution_count": null,
   "id": "b922707b",
   "metadata": {
    "scrolled": true
   },
   "outputs": [],
   "source": [
    "kpca_data = kpca_list[1].model.fit(data_pipe).transform(data_pipe)"
   ]
  },
  {
   "cell_type": "code",
   "execution_count": null,
   "id": "671184b9",
   "metadata": {
    "scrolled": true
   },
   "outputs": [],
   "source": [
    "kpca_data.shape"
   ]
  },
  {
   "cell_type": "code",
   "execution_count": null,
   "id": "afaa4c13",
   "metadata": {
    "scrolled": true
   },
   "outputs": [],
   "source": [
    "#mean-shift\n",
    "bandwidth = estimate_bandwidth(data_pipe_df, quantile=0.04)\n",
    "ms = MeanShift(bandwidth=bandwidth, bin_seeding=True)\n",
    "msFit = ms.fit(data_pipe_df)\n",
    "df['KPCAMeanShift'] = msFit.predict(data_pipe_df)\n",
    "#df.groupby(['KPCAMeanShift']).size().to_frame"
   ]
  },
  {
   "cell_type": "code",
   "execution_count": null,
   "id": "9a703dbb",
   "metadata": {
    "scrolled": true
   },
   "outputs": [],
   "source": []
  },
  {
   "cell_type": "code",
   "execution_count": null,
   "id": "6cf56bb9",
   "metadata": {
    "scrolled": true
   },
   "outputs": [],
   "source": []
  },
  {
   "cell_type": "code",
   "execution_count": null,
   "id": "8204baee",
   "metadata": {
    "scrolled": true
   },
   "outputs": [],
   "source": [
    "from sklearn.decomposition import PCA\n",
    "\n",
    "pca_list = list()\n",
    "feature_weight_list = list()\n",
    "\n",
    "for n in range(1,11):\n",
    "    PCAmod = PCA(n_components=n)\n",
    "    PCAmod.fit(data_pipe_df)\n",
    "    \n",
    "    pca_list.append(pd.Series({'values':PCAmod.singular_values_,'n':n,'model':PCAmod,'var':PCAmod.explained_variance_ratio_.sum()}))\n",
    "\n",
    "    weights = PCAmod.explained_variance_ratio_.reshape(-1,1)/PCAmod.explained_variance_ratio_.sum()\n",
    "    overall_contribution = np.abs(PCAmod.components_)*weights\n",
    "    abs_feature_values = overall_contribution.sum(axis=0)\n",
    "    feature_weight_list.append(pd.DataFrame({'n':n,'features':data_pipe_df.columns,'values':abs_feature_values/abs_feature_values.sum()}))\n",
    "    \n",
    "pca_df = pd.concat(pca_list,axis=1).T.set_index('n')\n",
    "pca_df"
   ]
  },
  {
   "cell_type": "code",
   "execution_count": null,
   "id": "4c626c1d",
   "metadata": {
    "scrolled": true
   },
   "outputs": [],
   "source": [
    "h = list()\n",
    "h"
   ]
  },
  {
   "cell_type": "code",
   "execution_count": null,
   "id": "6605927d",
   "metadata": {
    "scrolled": true
   },
   "outputs": [],
   "source": []
  },
  {
   "cell_type": "code",
   "execution_count": null,
   "id": "25a8d660",
   "metadata": {
    "scrolled": true
   },
   "outputs": [],
   "source": []
  },
  {
   "cell_type": "code",
   "execution_count": null,
   "id": "07aeb783",
   "metadata": {
    "scrolled": true
   },
   "outputs": [],
   "source": [
    "df['kmeans'].unique()"
   ]
  },
  {
   "cell_type": "code",
   "execution_count": null,
   "id": "5394ab83",
   "metadata": {},
   "outputs": [],
   "source": [
    "kpca = KernelPCA(kernel='linear',n_components=2, fit_inverse_transform=True)\n",
    "components = kpca.fit_transform(scaledFeatures_df)\n",
    "fig = px.scatter(components, x=0, y=1, color = df['kmeans'])\n",
    "fig.show()"
   ]
  },
  {
   "cell_type": "code",
   "execution_count": null,
   "id": "70d677e5",
   "metadata": {
    "scrolled": true
   },
   "outputs": [],
   "source": [
    "#import spotipy\n",
    "# from spotipy.oauth2 import SpotifyClientCredentials\n",
    "# import spotipy.util as util\n",
    "# username= 'john3baskerville'\n",
    "# token = util.prompt_for_user_token(username,\n",
    "#                            'user-library-read',\n",
    "#                            client_id='97537d196d1345ecb17c19537d54174a',\n",
    "#                            client_secret='003cf70c6be14a9e991e75f52930c5e3',\n",
    "#                            redirect_uri='http://localhost:8080')\n",
    "\n",
    "# sp = spotipy.Spotify(auth=token)\n",
    "\n",
    "\n",
    "# tracks = sp.tracks(minPlaylist[:50])\n",
    "\n",
    "# for value in tracks['tracks']:\n",
    "#     print(value['name'],\"-\", value['artists'][0]['name'])\n",
    "\n",
    "#minPlaylist = scaledFeatures_df[scaledFeatures_df['KPCAMeanShift'] == 1].index\n",
    "\n",
    "# username= 'john3baskerville'\n",
    "# token = util.prompt_for_user_token(username,\n",
    "#                            'user-library-read',\n",
    "#                            client_id='97537d196d1345ecb17c19537d54174a',\n",
    "#                            client_secret='003cf70c6be14a9e991e75f52930c5e3',\n",
    "#                            redirect_uri='http://localhost:8080')\n",
    "\n",
    "# sp = spotipy.Spotify(auth=token)\n",
    "\n",
    "\n",
    "# tracks = sp.tracks(minPlaylist[:25])\n",
    "\n",
    "# for value in tracks['tracks']:\n",
    "#     print(value['name'])\n",
    "#     for artist in value['artists']:\n",
    "#         print(\" \" + artist['name'])"
   ]
  },
  {
   "cell_type": "code",
   "execution_count": null,
   "id": "0713f05c",
   "metadata": {
    "scrolled": true
   },
   "outputs": [],
   "source": []
  },
  {
   "cell_type": "code",
   "execution_count": null,
   "id": "4b62a8a9",
   "metadata": {
    "scrolled": true
   },
   "outputs": [],
   "source": [
    "a = 45\n",
    "hide_toggle(for_next=True)"
   ]
  },
  {
   "cell_type": "code",
   "execution_count": null,
   "id": "c527efd5",
   "metadata": {},
   "outputs": [],
   "source": [
    "a"
   ]
  },
  {
   "cell_type": "code",
   "execution_count": 10,
   "id": "1340cd9a",
   "metadata": {
    "tags": [
     "remove_cell"
    ]
   },
   "outputs": [],
   "source": [
    "# -*- coding: utf-8 -*-\n",
    "\n",
    "from traitlets.config import Config\n",
    "import nbformat as nbf\n",
    "from nbconvert.exporters import HTMLExporter\n",
    "from nbconvert.preprocessors import TagRemovePreprocessor\n",
    "\n",
    "# Setup config\n",
    "c = Config()\n",
    "\n",
    "# Configure tag removal - be sure to tag your cells to remove  using the\n",
    "# words remove_cell to remove cells. You can also modify the code to use\n",
    "# a different tag word\n",
    "c.TagRemovePreprocessor.remove_cell_tags = (\"remove_cell\",)\n",
    "c.TagRemovePreprocessor.remove_all_outputs_tags = ('remove_output',)\n",
    "c.TagRemovePreprocessor.remove_input_tags = ('remove_input',)\n",
    "c.TagRemovePreprocessor.enabled = True\n",
    "\n",
    "# Configure and run out exporter\n",
    "c.HTMLExporter.preprocessors = [\"nbconvert.preprocessors.TagRemovePreprocessor\"]\n",
    "\n",
    "exporter = HTMLExporter(config=c)\n",
    "exporter.register_preprocessor(TagRemovePreprocessor(config=c),True)\n",
    "\n",
    "# Configure and run our exporter - returns a tuple - first element with html,\n",
    "# second with notebook metadata\n",
    "output = HTMLExporter(config=c).from_filename(\"Unsupervised Learning Project - Final.ipynb\")\n",
    "\n",
    "# Write to output html file\n",
    "with open(\"Unsupervised Learning Project - Final.html\",  \"w\", encoding=\"utf-8\") as f:\n",
    "    f.write(output[0])"
   ]
  },
  {
   "cell_type": "code",
   "execution_count": null,
   "id": "45da0d0f",
   "metadata": {},
   "outputs": [],
   "source": []
  }
 ],
 "metadata": {
  "celltoolbar": "Tags",
  "kernelspec": {
   "display_name": "Python 3",
   "language": "python",
   "name": "python3"
  },
  "language_info": {
   "codemirror_mode": {
    "name": "ipython",
    "version": 3
   },
   "file_extension": ".py",
   "mimetype": "text/x-python",
   "name": "python",
   "nbconvert_exporter": "python",
   "pygments_lexer": "ipython3",
   "version": "3.8.10"
  }
 },
 "nbformat": 4,
 "nbformat_minor": 5
}
