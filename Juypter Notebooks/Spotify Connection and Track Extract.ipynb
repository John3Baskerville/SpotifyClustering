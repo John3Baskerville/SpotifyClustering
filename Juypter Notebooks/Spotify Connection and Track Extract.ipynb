{
 "cells": [
  {
   "cell_type": "markdown",
   "metadata": {},
   "source": [
    "# Conntect to Spotipy API\n",
    "###### First import the spotipy library and retrieve user information for login spealchieck?"
   ]
  },
  {
   "cell_type": "code",
   "execution_count": 1,
   "metadata": {},
   "outputs": [],
   "source": [
    "import sys\n",
    "import pandas as pd #dataframe structure to store spotify data\n",
    "import spotipy #spotify library\n",
    "import spotipy.util as util\n",
    "from spotipy.oauth2 import SpotifyClientCredentials\n",
    "\n",
    "username= 'john3baskerville'\n",
    "#use token credentials for spotipy parameter (client id and secret come from https://developer.spotify.com/dashboard/applications/97537d196d1345ecb17c19537d54174a)\n",
    "token = util.prompt_for_user_token(username,\n",
    "                           'user-library-read',\n",
    "                           client_id='97537d196d1345ecb17c19537d54174a',\n",
    "                           client_secret='003cf70c6be14a9e991e75f52930c5e3',\n",
    "                           redirect_uri='http://localhost')\n",
    "\n",
    "sp = spotipy.Spotify(auth=token)"
   ]
  },
  {
   "cell_type": "markdown",
   "metadata": {},
   "source": [
    "# Get song attributes for user library (Saved Tracks)"
   ]
  },
  {
   "cell_type": "code",
   "execution_count": 2,
   "metadata": {},
   "outputs": [],
   "source": [
    "#function to get all of my saved tracks returns a dictionary.\n",
    "#current_user_saved_tracks() only returns a few tracks at a time - the function allows for a contiuous loop for the entire length\n",
    "# of the library.\n",
    "def get_playlist_tracks():\n",
    "    results = sp.current_user_saved_tracks()\n",
    "    tracks = results['items']\n",
    "    while results['next']:\n",
    "        results = sp.next(results)\n",
    "        tracks.extend(results['items'])\n",
    "    return tracks\n",
    "\n",
    "savedTracks = get_playlist_tracks()"
   ]
  },
  {
   "cell_type": "code",
   "execution_count": 3,
   "metadata": {},
   "outputs": [],
   "source": [
    "#audio_features returnes a list with a dictonary full of audio features\n",
    "features = sp.audio_features('39LLxExYz6ewLAcYrzQQyP')"
   ]
  },
  {
   "cell_type": "code",
   "execution_count": 4,
   "metadata": {},
   "outputs": [
    {
     "data": {
      "text/plain": [
       "[{'danceability': 0.695,\n",
       "  'energy': 0.884,\n",
       "  'key': 6,\n",
       "  'loudness': -2.278,\n",
       "  'mode': 0,\n",
       "  'speechiness': 0.0753,\n",
       "  'acousticness': 0.0561,\n",
       "  'instrumentalness': 0,\n",
       "  'liveness': 0.213,\n",
       "  'valence': 0.914,\n",
       "  'tempo': 103.014,\n",
       "  'type': 'audio_features',\n",
       "  'id': '39LLxExYz6ewLAcYrzQQyP',\n",
       "  'uri': 'spotify:track:39LLxExYz6ewLAcYrzQQyP',\n",
       "  'track_href': 'https://api.spotify.com/v1/tracks/39LLxExYz6ewLAcYrzQQyP',\n",
       "  'analysis_url': 'https://api.spotify.com/v1/audio-analysis/39LLxExYz6ewLAcYrzQQyP',\n",
       "  'duration_ms': 203808,\n",
       "  'time_signature': 4}]"
      ]
     },
     "execution_count": 4,
     "metadata": {},
     "output_type": "execute_result"
    }
   ],
   "source": [
    "features"
   ]
  },
  {
   "cell_type": "code",
   "execution_count": 5,
   "metadata": {},
   "outputs": [],
   "source": [
    "analysis = sp.audio_analysis('39LLxExYz6ewLAcYrzQQyP')"
   ]
  },
  {
   "cell_type": "code",
   "execution_count": 6,
   "metadata": {},
   "outputs": [],
   "source": [
    "#analysis"
   ]
  },
  {
   "cell_type": "code",
   "execution_count": 7,
   "metadata": {
    "scrolled": true
   },
   "outputs": [],
   "source": [
    "#make a list of feature names that will be used to build the df\n",
    "featureNames = [k for k,v in features[0].items()]\n",
    "\n",
    "#add a name column because audio features doesnt have song name\n",
    "featureNames.append('songName')\n",
    "#featureNames"
   ]
  },
  {
   "cell_type": "code",
   "execution_count": 8,
   "metadata": {},
   "outputs": [
    {
     "data": {
      "text/plain": [
       "1597"
      ]
     },
     "execution_count": 8,
     "metadata": {},
     "output_type": "execute_result"
    }
   ],
   "source": [
    "songData = pd.DataFrame(columns=featureNames)\n",
    "\n",
    "#loop through dictionary of saved tracks and pull out ids & name for all songs.\n",
    "for i in range(len(savedTracks)):\n",
    "    ids = savedTracks[i]['track']['id']\n",
    "    audioFeatures = sp.audio_features(ids)\n",
    "    songData = songData.append(audioFeatures, ignore_index=True) #append returns new object; ignore index will make index 0-n\n",
    "    name = savedTracks[i]['track']['name']\n",
    "    #iloc[row index, column index] \n",
    "    songData.iloc[i,songData.columns.get_loc('songName')] = name\n",
    "    #print(name)\n",
    "    \n",
    "#need to add audio analysis to dataset\n",
    "    \n",
    "len(songData)"
   ]
  },
  {
   "cell_type": "code",
   "execution_count": 9,
   "metadata": {},
   "outputs": [],
   "source": [
    "#df.to_csv(\"C:\\\\Users\\\\jbaskerville\\\\Desktop\\\\JohnBaskervilleGitRepos\\\\NLP_PlaylistTopic\\\\spotifyLibrary.csv\", encoding='utf-8')\n",
    "songData.to_csv(\"C:\\\\Users\\\\jbaskerville\\\\Desktop\\\\JohnBaskervilleGitRepos\\\\SpotifyClustering\\\\Juypter Notebooks\\\\spotifyLibraryNames.csv\", encoding='utf-8')"
   ]
  },
  {
   "cell_type": "markdown",
   "metadata": {},
   "source": []
  },
  {
   "cell_type": "markdown",
   "metadata": {},
   "source": [
    "https://developer.spotify.com/documentation/web-api/reference/tracks/get-audio-features/"
   ]
  }
 ],
 "metadata": {
  "kernelspec": {
   "display_name": "Python 3",
   "language": "python",
   "name": "python3"
  },
  "language_info": {
   "codemirror_mode": {
    "name": "ipython",
    "version": 3
   },
   "file_extension": ".py",
   "mimetype": "text/x-python",
   "name": "python",
   "nbconvert_exporter": "python",
   "pygments_lexer": "ipython3",
   "version": "3.8.8"
  }
 },
 "nbformat": 4,
 "nbformat_minor": 2
}
