{
 "cells": [
  {
   "cell_type": "markdown",
   "id": "46794eab",
   "metadata": {},
   "source": [
    "# Grouping My Personal Spotify Library\n",
    "\n",
    "I wanted to take a closer look at my personal spotify library and try to find any interesting groupings or clusters that would be usefull when creating playlist. \n",
    "\n",
    "This analysis is focused on clustering and exploring the attributes behind the music I listen to. With these models, I hope to strategically and quickly create playlists with songs more similar to eachother based off songs in my current library. \n",
    "\n",
    "## The Data\n",
    "The data is collected using a spotify API connection library in python. I saved the data into a .csv file and use pandas for handling. \n",
    "\n",
    "Most of the features are numeric values that rate and measure certain attributes of each track. For example: 'Danceability (float) describes how suitable a track is for dancing based on a combination of musical elements including tempo, rhythm stability, beat strength, and overall regularity. A value of 0.0 is least danceable and 1.0 is most danceable. The distribution of values for this feature look like this:Danceability distribution'."
   ]
  },
  {
   "cell_type": "code",
   "execution_count": 1,
   "id": "328d8731",
   "metadata": {},
   "outputs": [],
   "source": [
    "import pandas as pd\n",
    "df = pd.read_csv(\"C:\\\\Users\\\\jbaskerville\\\\Desktop\\\\JohnBaskervilleGitRepos\\\\SpotifyClustering\\\\Juypter Notebooks\\\\spotifyLibrary.csv\", encoding='utf-8')\n",
    "spotifySongData= pd.read_csv(\"C:\\\\Users\\\\jbaskerville\\\\Desktop\\\\JohnBaskervilleGitRepos\\\\SpotifyClustering\\\\Juypter Notebooks\\\\spotifyLibraryNames.csv\", encoding='utf-8')"
   ]
  },
  {
   "cell_type": "code",
   "execution_count": 2,
   "id": "20e7b5c3",
   "metadata": {},
   "outputs": [
    {
     "data": {
      "text/plain": [
       "1579"
      ]
     },
     "execution_count": 2,
     "metadata": {},
     "output_type": "execute_result"
    }
   ],
   "source": [
    "len(spotifySongData)"
   ]
  },
  {
   "cell_type": "code",
   "execution_count": 3,
   "id": "1964723b",
   "metadata": {},
   "outputs": [
    {
     "data": {
      "text/html": [
       "<div>\n",
       "<style scoped>\n",
       "    .dataframe tbody tr th:only-of-type {\n",
       "        vertical-align: middle;\n",
       "    }\n",
       "\n",
       "    .dataframe tbody tr th {\n",
       "        vertical-align: top;\n",
       "    }\n",
       "\n",
       "    .dataframe thead th {\n",
       "        text-align: right;\n",
       "    }\n",
       "</style>\n",
       "<table border=\"1\" class=\"dataframe\">\n",
       "  <thead>\n",
       "    <tr style=\"text-align: right;\">\n",
       "      <th></th>\n",
       "      <th>n</th>\n",
       "      <th>danceability</th>\n",
       "      <th>energy</th>\n",
       "      <th>key</th>\n",
       "      <th>loudness</th>\n",
       "      <th>mode</th>\n",
       "      <th>speechiness</th>\n",
       "      <th>acousticness</th>\n",
       "      <th>instrumentalness</th>\n",
       "      <th>liveness</th>\n",
       "      <th>valence</th>\n",
       "      <th>tempo</th>\n",
       "      <th>duration_ms</th>\n",
       "      <th>time_signature</th>\n",
       "    </tr>\n",
       "  </thead>\n",
       "  <tbody>\n",
       "    <tr>\n",
       "      <th>count</th>\n",
       "      <td>1579.000000</td>\n",
       "      <td>1579.000000</td>\n",
       "      <td>1579.000000</td>\n",
       "      <td>1579.000000</td>\n",
       "      <td>1579.000000</td>\n",
       "      <td>1579.000000</td>\n",
       "      <td>1579.000000</td>\n",
       "      <td>1579.000000</td>\n",
       "      <td>1579.000000</td>\n",
       "      <td>1579.000000</td>\n",
       "      <td>1579.000000</td>\n",
       "      <td>1579.000000</td>\n",
       "      <td>1.579000e+03</td>\n",
       "      <td>1579.000000</td>\n",
       "    </tr>\n",
       "    <tr>\n",
       "      <th>mean</th>\n",
       "      <td>789.000000</td>\n",
       "      <td>0.693868</td>\n",
       "      <td>0.636057</td>\n",
       "      <td>5.149462</td>\n",
       "      <td>-6.846179</td>\n",
       "      <td>0.550348</td>\n",
       "      <td>0.159726</td>\n",
       "      <td>0.173077</td>\n",
       "      <td>0.046422</td>\n",
       "      <td>0.190662</td>\n",
       "      <td>0.441259</td>\n",
       "      <td>124.746564</td>\n",
       "      <td>2.191493e+05</td>\n",
       "      <td>3.974668</td>\n",
       "    </tr>\n",
       "    <tr>\n",
       "      <th>std</th>\n",
       "      <td>455.962352</td>\n",
       "      <td>0.146006</td>\n",
       "      <td>0.159708</td>\n",
       "      <td>3.632930</td>\n",
       "      <td>2.434813</td>\n",
       "      <td>0.497616</td>\n",
       "      <td>0.131548</td>\n",
       "      <td>0.197039</td>\n",
       "      <td>0.158075</td>\n",
       "      <td>0.141716</td>\n",
       "      <td>0.223440</td>\n",
       "      <td>27.375703</td>\n",
       "      <td>5.726522e+04</td>\n",
       "      <td>0.262805</td>\n",
       "    </tr>\n",
       "    <tr>\n",
       "      <th>min</th>\n",
       "      <td>0.000000</td>\n",
       "      <td>0.157000</td>\n",
       "      <td>0.109000</td>\n",
       "      <td>0.000000</td>\n",
       "      <td>-21.447000</td>\n",
       "      <td>0.000000</td>\n",
       "      <td>0.024400</td>\n",
       "      <td>0.000025</td>\n",
       "      <td>0.000000</td>\n",
       "      <td>0.016000</td>\n",
       "      <td>0.026600</td>\n",
       "      <td>55.679000</td>\n",
       "      <td>5.564000e+04</td>\n",
       "      <td>1.000000</td>\n",
       "    </tr>\n",
       "    <tr>\n",
       "      <th>25%</th>\n",
       "      <td>394.500000</td>\n",
       "      <td>0.598000</td>\n",
       "      <td>0.530500</td>\n",
       "      <td>1.000000</td>\n",
       "      <td>-8.150500</td>\n",
       "      <td>0.000000</td>\n",
       "      <td>0.051700</td>\n",
       "      <td>0.024650</td>\n",
       "      <td>0.000000</td>\n",
       "      <td>0.101000</td>\n",
       "      <td>0.265000</td>\n",
       "      <td>103.723500</td>\n",
       "      <td>1.860735e+05</td>\n",
       "      <td>4.000000</td>\n",
       "    </tr>\n",
       "    <tr>\n",
       "      <th>50%</th>\n",
       "      <td>789.000000</td>\n",
       "      <td>0.708000</td>\n",
       "      <td>0.637000</td>\n",
       "      <td>5.000000</td>\n",
       "      <td>-6.568000</td>\n",
       "      <td>1.000000</td>\n",
       "      <td>0.108000</td>\n",
       "      <td>0.093300</td>\n",
       "      <td>0.000004</td>\n",
       "      <td>0.134000</td>\n",
       "      <td>0.420000</td>\n",
       "      <td>125.993000</td>\n",
       "      <td>2.134000e+05</td>\n",
       "      <td>4.000000</td>\n",
       "    </tr>\n",
       "    <tr>\n",
       "      <th>75%</th>\n",
       "      <td>1183.500000</td>\n",
       "      <td>0.805000</td>\n",
       "      <td>0.750000</td>\n",
       "      <td>8.000000</td>\n",
       "      <td>-5.200000</td>\n",
       "      <td>1.000000</td>\n",
       "      <td>0.251000</td>\n",
       "      <td>0.259000</td>\n",
       "      <td>0.001485</td>\n",
       "      <td>0.238000</td>\n",
       "      <td>0.601000</td>\n",
       "      <td>142.336000</td>\n",
       "      <td>2.461730e+05</td>\n",
       "      <td>4.000000</td>\n",
       "    </tr>\n",
       "    <tr>\n",
       "      <th>max</th>\n",
       "      <td>1578.000000</td>\n",
       "      <td>0.980000</td>\n",
       "      <td>0.994000</td>\n",
       "      <td>11.000000</td>\n",
       "      <td>-0.283000</td>\n",
       "      <td>1.000000</td>\n",
       "      <td>0.855000</td>\n",
       "      <td>0.944000</td>\n",
       "      <td>0.973000</td>\n",
       "      <td>0.966000</td>\n",
       "      <td>0.980000</td>\n",
       "      <td>215.593000</td>\n",
       "      <td>1.146163e+06</td>\n",
       "      <td>5.000000</td>\n",
       "    </tr>\n",
       "  </tbody>\n",
       "</table>\n",
       "</div>"
      ],
      "text/plain": [
       "                 n  danceability       energy          key     loudness  \\\n",
       "count  1579.000000   1579.000000  1579.000000  1579.000000  1579.000000   \n",
       "mean    789.000000      0.693868     0.636057     5.149462    -6.846179   \n",
       "std     455.962352      0.146006     0.159708     3.632930     2.434813   \n",
       "min       0.000000      0.157000     0.109000     0.000000   -21.447000   \n",
       "25%     394.500000      0.598000     0.530500     1.000000    -8.150500   \n",
       "50%     789.000000      0.708000     0.637000     5.000000    -6.568000   \n",
       "75%    1183.500000      0.805000     0.750000     8.000000    -5.200000   \n",
       "max    1578.000000      0.980000     0.994000    11.000000    -0.283000   \n",
       "\n",
       "              mode  speechiness  acousticness  instrumentalness     liveness  \\\n",
       "count  1579.000000  1579.000000   1579.000000       1579.000000  1579.000000   \n",
       "mean      0.550348     0.159726      0.173077          0.046422     0.190662   \n",
       "std       0.497616     0.131548      0.197039          0.158075     0.141716   \n",
       "min       0.000000     0.024400      0.000025          0.000000     0.016000   \n",
       "25%       0.000000     0.051700      0.024650          0.000000     0.101000   \n",
       "50%       1.000000     0.108000      0.093300          0.000004     0.134000   \n",
       "75%       1.000000     0.251000      0.259000          0.001485     0.238000   \n",
       "max       1.000000     0.855000      0.944000          0.973000     0.966000   \n",
       "\n",
       "           valence        tempo   duration_ms  time_signature  \n",
       "count  1579.000000  1579.000000  1.579000e+03     1579.000000  \n",
       "mean      0.441259   124.746564  2.191493e+05        3.974668  \n",
       "std       0.223440    27.375703  5.726522e+04        0.262805  \n",
       "min       0.026600    55.679000  5.564000e+04        1.000000  \n",
       "25%       0.265000   103.723500  1.860735e+05        4.000000  \n",
       "50%       0.420000   125.993000  2.134000e+05        4.000000  \n",
       "75%       0.601000   142.336000  2.461730e+05        4.000000  \n",
       "max       0.980000   215.593000  1.146163e+06        5.000000  "
      ]
     },
     "execution_count": 3,
     "metadata": {},
     "output_type": "execute_result"
    }
   ],
   "source": [
    "spotifySongData.describe()"
   ]
  },
  {
   "cell_type": "markdown",
   "id": "9430ad0b",
   "metadata": {},
   "source": [
    "## Data exploration and actions taken for data cleaning\n",
    "For data cleaning, I elimintated a few non-float varibles like 'href' and 'id' which wouldnt help the clustering algorithm. \n",
    "\n",
    "After all the numeric data were identified, one of the first exploration techniques I use to understand the data involves looking at the feature correlations. \n",
    "\n",
    "Next, I use log and square tranformations as well as scaled the data using MinMaxScaler and numpy.log1p()."
   ]
  },
  {
   "cell_type": "code",
   "execution_count": 4,
   "id": "cc655b4d",
   "metadata": {},
   "outputs": [
    {
     "data": {
      "text/plain": [
       "Index(['n', 'danceability', 'energy', 'key', 'loudness', 'mode', 'speechiness',\n",
       "       'acousticness', 'instrumentalness', 'liveness', 'valence', 'tempo',\n",
       "       'type', 'id', 'uri', 'track_href', 'analysis_url', 'duration_ms',\n",
       "       'time_signature', 'songName'],\n",
       "      dtype='object')"
      ]
     },
     "execution_count": 4,
     "metadata": {},
     "output_type": "execute_result"
    }
   ],
   "source": [
    "spotifySongData.columns"
   ]
  },
  {
   "cell_type": "code",
   "execution_count": 5,
   "id": "5e479fa3",
   "metadata": {},
   "outputs": [],
   "source": [
    "numeric_data = [x for x in df.columns if x not in [\"key\",\"mode\",\"time_signature\",\n",
    "                                                   \"type\",\"uri\",\"id\",\"track_href\",\"Unnamed: 0\",\n",
    "                                                   \"analysis_url\"]]\n",
    "numeric_data_df = df[numeric_data].set_index(df['id'])"
   ]
  },
  {
   "cell_type": "code",
   "execution_count": 6,
   "id": "661d71f1",
   "metadata": {},
   "outputs": [
    {
     "data": {
      "text/plain": [
       "Index(['danceability', 'energy', 'loudness', 'speechiness', 'acousticness',\n",
       "       'instrumentalness', 'liveness', 'valence', 'tempo', 'duration_ms'],\n",
       "      dtype='object')"
      ]
     },
     "execution_count": 6,
     "metadata": {},
     "output_type": "execute_result"
    }
   ],
   "source": [
    "import seaborn as sns\n",
    "numeric_data_df.columns"
   ]
  },
  {
   "cell_type": "code",
   "execution_count": 7,
   "id": "0e08241c",
   "metadata": {},
   "outputs": [
    {
     "ename": "KeyboardInterrupt",
     "evalue": "",
     "output_type": "error",
     "traceback": [
      "\u001b[1;31m---------------------------------------------------------------------------\u001b[0m",
      "\u001b[1;31mKeyboardInterrupt\u001b[0m                         Traceback (most recent call last)",
      "\u001b[1;32m<ipython-input-7-f881c9e47859>\u001b[0m in \u001b[0;36m<module>\u001b[1;34m\u001b[0m\n\u001b[1;32m----> 1\u001b[1;33m \u001b[0msns\u001b[0m\u001b[1;33m.\u001b[0m\u001b[0mpairplot\u001b[0m\u001b[1;33m(\u001b[0m\u001b[0mnumeric_data_df\u001b[0m\u001b[1;33m)\u001b[0m\u001b[1;33m;\u001b[0m\u001b[1;33m\u001b[0m\u001b[1;33m\u001b[0m\u001b[0m\n\u001b[0m",
      "\u001b[1;32m~\\Anaconda3\\lib\\site-packages\\seaborn\\_decorators.py\u001b[0m in \u001b[0;36minner_f\u001b[1;34m(*args, **kwargs)\u001b[0m\n\u001b[0;32m     44\u001b[0m             )\n\u001b[0;32m     45\u001b[0m         \u001b[0mkwargs\u001b[0m\u001b[1;33m.\u001b[0m\u001b[0mupdate\u001b[0m\u001b[1;33m(\u001b[0m\u001b[1;33m{\u001b[0m\u001b[0mk\u001b[0m\u001b[1;33m:\u001b[0m \u001b[0marg\u001b[0m \u001b[1;32mfor\u001b[0m \u001b[0mk\u001b[0m\u001b[1;33m,\u001b[0m \u001b[0marg\u001b[0m \u001b[1;32min\u001b[0m \u001b[0mzip\u001b[0m\u001b[1;33m(\u001b[0m\u001b[0msig\u001b[0m\u001b[1;33m.\u001b[0m\u001b[0mparameters\u001b[0m\u001b[1;33m,\u001b[0m \u001b[0margs\u001b[0m\u001b[1;33m)\u001b[0m\u001b[1;33m}\u001b[0m\u001b[1;33m)\u001b[0m\u001b[1;33m\u001b[0m\u001b[1;33m\u001b[0m\u001b[0m\n\u001b[1;32m---> 46\u001b[1;33m         \u001b[1;32mreturn\u001b[0m \u001b[0mf\u001b[0m\u001b[1;33m(\u001b[0m\u001b[1;33m**\u001b[0m\u001b[0mkwargs\u001b[0m\u001b[1;33m)\u001b[0m\u001b[1;33m\u001b[0m\u001b[1;33m\u001b[0m\u001b[0m\n\u001b[0m\u001b[0;32m     47\u001b[0m     \u001b[1;32mreturn\u001b[0m \u001b[0minner_f\u001b[0m\u001b[1;33m\u001b[0m\u001b[1;33m\u001b[0m\u001b[0m\n\u001b[0;32m     48\u001b[0m \u001b[1;33m\u001b[0m\u001b[0m\n",
      "\u001b[1;32m~\\Anaconda3\\lib\\site-packages\\seaborn\\axisgrid.py\u001b[0m in \u001b[0;36mpairplot\u001b[1;34m(data, hue, hue_order, palette, vars, x_vars, y_vars, kind, diag_kind, markers, height, aspect, corner, dropna, plot_kws, diag_kws, grid_kws, size)\u001b[0m\n\u001b[0;32m   2017\u001b[0m     \u001b[0mdiag_kws\u001b[0m\u001b[1;33m.\u001b[0m\u001b[0msetdefault\u001b[0m\u001b[1;33m(\u001b[0m\u001b[1;34m\"legend\"\u001b[0m\u001b[1;33m,\u001b[0m \u001b[1;32mFalse\u001b[0m\u001b[1;33m)\u001b[0m\u001b[1;33m\u001b[0m\u001b[1;33m\u001b[0m\u001b[0m\n\u001b[0;32m   2018\u001b[0m     \u001b[1;32mif\u001b[0m \u001b[0mdiag_kind\u001b[0m \u001b[1;33m==\u001b[0m \u001b[1;34m\"hist\"\u001b[0m\u001b[1;33m:\u001b[0m\u001b[1;33m\u001b[0m\u001b[1;33m\u001b[0m\u001b[0m\n\u001b[1;32m-> 2019\u001b[1;33m         \u001b[0mgrid\u001b[0m\u001b[1;33m.\u001b[0m\u001b[0mmap_diag\u001b[0m\u001b[1;33m(\u001b[0m\u001b[0mhistplot\u001b[0m\u001b[1;33m,\u001b[0m \u001b[1;33m**\u001b[0m\u001b[0mdiag_kws\u001b[0m\u001b[1;33m)\u001b[0m\u001b[1;33m\u001b[0m\u001b[1;33m\u001b[0m\u001b[0m\n\u001b[0m\u001b[0;32m   2020\u001b[0m     \u001b[1;32melif\u001b[0m \u001b[0mdiag_kind\u001b[0m \u001b[1;33m==\u001b[0m \u001b[1;34m\"kde\"\u001b[0m\u001b[1;33m:\u001b[0m\u001b[1;33m\u001b[0m\u001b[1;33m\u001b[0m\u001b[0m\n\u001b[0;32m   2021\u001b[0m         \u001b[0mdiag_kws\u001b[0m\u001b[1;33m.\u001b[0m\u001b[0msetdefault\u001b[0m\u001b[1;33m(\u001b[0m\u001b[1;34m\"fill\"\u001b[0m\u001b[1;33m,\u001b[0m \u001b[1;32mTrue\u001b[0m\u001b[1;33m)\u001b[0m\u001b[1;33m\u001b[0m\u001b[1;33m\u001b[0m\u001b[0m\n",
      "\u001b[1;32m~\\Anaconda3\\lib\\site-packages\\seaborn\\axisgrid.py\u001b[0m in \u001b[0;36mmap_diag\u001b[1;34m(self, func, **kwargs)\u001b[0m\n\u001b[0;32m   1400\u001b[0m             \u001b[0mplot_kwargs\u001b[0m\u001b[1;33m.\u001b[0m\u001b[0msetdefault\u001b[0m\u001b[1;33m(\u001b[0m\u001b[1;34m\"hue_order\"\u001b[0m\u001b[1;33m,\u001b[0m \u001b[0mself\u001b[0m\u001b[1;33m.\u001b[0m\u001b[0m_hue_order\u001b[0m\u001b[1;33m)\u001b[0m\u001b[1;33m\u001b[0m\u001b[1;33m\u001b[0m\u001b[0m\n\u001b[0;32m   1401\u001b[0m             \u001b[0mplot_kwargs\u001b[0m\u001b[1;33m.\u001b[0m\u001b[0msetdefault\u001b[0m\u001b[1;33m(\u001b[0m\u001b[1;34m\"palette\"\u001b[0m\u001b[1;33m,\u001b[0m \u001b[0mself\u001b[0m\u001b[1;33m.\u001b[0m\u001b[0m_orig_palette\u001b[0m\u001b[1;33m)\u001b[0m\u001b[1;33m\u001b[0m\u001b[1;33m\u001b[0m\u001b[0m\n\u001b[1;32m-> 1402\u001b[1;33m             \u001b[0mfunc\u001b[0m\u001b[1;33m(\u001b[0m\u001b[0mx\u001b[0m\u001b[1;33m=\u001b[0m\u001b[0mvector\u001b[0m\u001b[1;33m,\u001b[0m \u001b[1;33m**\u001b[0m\u001b[0mplot_kwargs\u001b[0m\u001b[1;33m)\u001b[0m\u001b[1;33m\u001b[0m\u001b[1;33m\u001b[0m\u001b[0m\n\u001b[0m\u001b[0;32m   1403\u001b[0m             \u001b[0mself\u001b[0m\u001b[1;33m.\u001b[0m\u001b[0m_clean_axis\u001b[0m\u001b[1;33m(\u001b[0m\u001b[0max\u001b[0m\u001b[1;33m)\u001b[0m\u001b[1;33m\u001b[0m\u001b[1;33m\u001b[0m\u001b[0m\n\u001b[0;32m   1404\u001b[0m \u001b[1;33m\u001b[0m\u001b[0m\n",
      "\u001b[1;32m~\\Anaconda3\\lib\\site-packages\\seaborn\\distributions.py\u001b[0m in \u001b[0;36mhistplot\u001b[1;34m(data, x, y, hue, weights, stat, bins, binwidth, binrange, discrete, cumulative, common_bins, common_norm, multiple, element, fill, shrink, kde, kde_kws, line_kws, thresh, pthresh, pmax, cbar, cbar_ax, cbar_kws, palette, hue_order, hue_norm, color, log_scale, legend, ax, **kwargs)\u001b[0m\n\u001b[0;32m   1421\u001b[0m     \u001b[1;32mif\u001b[0m \u001b[0mp\u001b[0m\u001b[1;33m.\u001b[0m\u001b[0munivariate\u001b[0m\u001b[1;33m:\u001b[0m\u001b[1;33m\u001b[0m\u001b[1;33m\u001b[0m\u001b[0m\n\u001b[0;32m   1422\u001b[0m \u001b[1;33m\u001b[0m\u001b[0m\n\u001b[1;32m-> 1423\u001b[1;33m         p.plot_univariate_histogram(\n\u001b[0m\u001b[0;32m   1424\u001b[0m             \u001b[0mmultiple\u001b[0m\u001b[1;33m=\u001b[0m\u001b[0mmultiple\u001b[0m\u001b[1;33m,\u001b[0m\u001b[1;33m\u001b[0m\u001b[1;33m\u001b[0m\u001b[0m\n\u001b[0;32m   1425\u001b[0m             \u001b[0melement\u001b[0m\u001b[1;33m=\u001b[0m\u001b[0melement\u001b[0m\u001b[1;33m,\u001b[0m\u001b[1;33m\u001b[0m\u001b[1;33m\u001b[0m\u001b[0m\n",
      "\u001b[1;32m~\\Anaconda3\\lib\\site-packages\\seaborn\\distributions.py\u001b[0m in \u001b[0;36mplot_univariate_histogram\u001b[1;34m(self, multiple, element, fill, common_norm, common_bins, shrink, kde, kde_kws, color, legend, line_kws, estimate_kws, **plot_kws)\u001b[0m\n\u001b[0;32m    553\u001b[0m                 \u001b[0mplot_func\u001b[0m \u001b[1;33m=\u001b[0m \u001b[0max\u001b[0m\u001b[1;33m.\u001b[0m\u001b[0mbar\u001b[0m \u001b[1;32mif\u001b[0m \u001b[0mself\u001b[0m\u001b[1;33m.\u001b[0m\u001b[0mdata_variable\u001b[0m \u001b[1;33m==\u001b[0m \u001b[1;34m\"x\"\u001b[0m \u001b[1;32melse\u001b[0m \u001b[0max\u001b[0m\u001b[1;33m.\u001b[0m\u001b[0mbarh\u001b[0m\u001b[1;33m\u001b[0m\u001b[1;33m\u001b[0m\u001b[0m\n\u001b[0;32m    554\u001b[0m                 \u001b[0mmove\u001b[0m \u001b[1;33m=\u001b[0m \u001b[1;36m.5\u001b[0m \u001b[1;33m*\u001b[0m \u001b[1;33m(\u001b[0m\u001b[1;36m1\u001b[0m \u001b[1;33m-\u001b[0m \u001b[0mshrink\u001b[0m\u001b[1;33m)\u001b[0m\u001b[1;33m\u001b[0m\u001b[1;33m\u001b[0m\u001b[0m\n\u001b[1;32m--> 555\u001b[1;33m                 artists = plot_func(\n\u001b[0m\u001b[0;32m    556\u001b[0m                     \u001b[0mhist\u001b[0m\u001b[1;33m[\u001b[0m\u001b[1;34m\"edges\"\u001b[0m\u001b[1;33m]\u001b[0m \u001b[1;33m+\u001b[0m \u001b[0mmove\u001b[0m\u001b[1;33m,\u001b[0m\u001b[1;33m\u001b[0m\u001b[1;33m\u001b[0m\u001b[0m\n\u001b[0;32m    557\u001b[0m                     \u001b[0mhist\u001b[0m\u001b[1;33m[\u001b[0m\u001b[1;34m\"heights\"\u001b[0m\u001b[1;33m]\u001b[0m \u001b[1;33m-\u001b[0m \u001b[0mbottom\u001b[0m\u001b[1;33m,\u001b[0m\u001b[1;33m\u001b[0m\u001b[1;33m\u001b[0m\u001b[0m\n",
      "\u001b[1;32m~\\Anaconda3\\lib\\site-packages\\matplotlib\\__init__.py\u001b[0m in \u001b[0;36minner\u001b[1;34m(ax, data, *args, **kwargs)\u001b[0m\n\u001b[0;32m   1445\u001b[0m     \u001b[1;32mdef\u001b[0m \u001b[0minner\u001b[0m\u001b[1;33m(\u001b[0m\u001b[0max\u001b[0m\u001b[1;33m,\u001b[0m \u001b[1;33m*\u001b[0m\u001b[0margs\u001b[0m\u001b[1;33m,\u001b[0m \u001b[0mdata\u001b[0m\u001b[1;33m=\u001b[0m\u001b[1;32mNone\u001b[0m\u001b[1;33m,\u001b[0m \u001b[1;33m**\u001b[0m\u001b[0mkwargs\u001b[0m\u001b[1;33m)\u001b[0m\u001b[1;33m:\u001b[0m\u001b[1;33m\u001b[0m\u001b[1;33m\u001b[0m\u001b[0m\n\u001b[0;32m   1446\u001b[0m         \u001b[1;32mif\u001b[0m \u001b[0mdata\u001b[0m \u001b[1;32mis\u001b[0m \u001b[1;32mNone\u001b[0m\u001b[1;33m:\u001b[0m\u001b[1;33m\u001b[0m\u001b[1;33m\u001b[0m\u001b[0m\n\u001b[1;32m-> 1447\u001b[1;33m             \u001b[1;32mreturn\u001b[0m \u001b[0mfunc\u001b[0m\u001b[1;33m(\u001b[0m\u001b[0max\u001b[0m\u001b[1;33m,\u001b[0m \u001b[1;33m*\u001b[0m\u001b[0mmap\u001b[0m\u001b[1;33m(\u001b[0m\u001b[0msanitize_sequence\u001b[0m\u001b[1;33m,\u001b[0m \u001b[0margs\u001b[0m\u001b[1;33m)\u001b[0m\u001b[1;33m,\u001b[0m \u001b[1;33m**\u001b[0m\u001b[0mkwargs\u001b[0m\u001b[1;33m)\u001b[0m\u001b[1;33m\u001b[0m\u001b[1;33m\u001b[0m\u001b[0m\n\u001b[0m\u001b[0;32m   1448\u001b[0m \u001b[1;33m\u001b[0m\u001b[0m\n\u001b[0;32m   1449\u001b[0m         \u001b[0mbound\u001b[0m \u001b[1;33m=\u001b[0m \u001b[0mnew_sig\u001b[0m\u001b[1;33m.\u001b[0m\u001b[0mbind\u001b[0m\u001b[1;33m(\u001b[0m\u001b[0max\u001b[0m\u001b[1;33m,\u001b[0m \u001b[1;33m*\u001b[0m\u001b[0margs\u001b[0m\u001b[1;33m,\u001b[0m \u001b[1;33m**\u001b[0m\u001b[0mkwargs\u001b[0m\u001b[1;33m)\u001b[0m\u001b[1;33m\u001b[0m\u001b[1;33m\u001b[0m\u001b[0m\n",
      "\u001b[1;32m~\\Anaconda3\\lib\\site-packages\\matplotlib\\axes\\_axes.py\u001b[0m in \u001b[0;36mbar\u001b[1;34m(self, x, height, width, bottom, align, **kwargs)\u001b[0m\n\u001b[0;32m   2492\u001b[0m             \u001b[1;32melif\u001b[0m \u001b[0morientation\u001b[0m \u001b[1;33m==\u001b[0m \u001b[1;34m'horizontal'\u001b[0m\u001b[1;33m:\u001b[0m\u001b[1;33m\u001b[0m\u001b[1;33m\u001b[0m\u001b[0m\n\u001b[0;32m   2493\u001b[0m                 \u001b[0mr\u001b[0m\u001b[1;33m.\u001b[0m\u001b[0msticky_edges\u001b[0m\u001b[1;33m.\u001b[0m\u001b[0mx\u001b[0m\u001b[1;33m.\u001b[0m\u001b[0mappend\u001b[0m\u001b[1;33m(\u001b[0m\u001b[0ml\u001b[0m\u001b[1;33m)\u001b[0m\u001b[1;33m\u001b[0m\u001b[1;33m\u001b[0m\u001b[0m\n\u001b[1;32m-> 2494\u001b[1;33m             \u001b[0mself\u001b[0m\u001b[1;33m.\u001b[0m\u001b[0madd_patch\u001b[0m\u001b[1;33m(\u001b[0m\u001b[0mr\u001b[0m\u001b[1;33m)\u001b[0m\u001b[1;33m\u001b[0m\u001b[1;33m\u001b[0m\u001b[0m\n\u001b[0m\u001b[0;32m   2495\u001b[0m             \u001b[0mpatches\u001b[0m\u001b[1;33m.\u001b[0m\u001b[0mappend\u001b[0m\u001b[1;33m(\u001b[0m\u001b[0mr\u001b[0m\u001b[1;33m)\u001b[0m\u001b[1;33m\u001b[0m\u001b[1;33m\u001b[0m\u001b[0m\n\u001b[0;32m   2496\u001b[0m \u001b[1;33m\u001b[0m\u001b[0m\n",
      "\u001b[1;32m~\\Anaconda3\\lib\\site-packages\\matplotlib\\axes\\_base.py\u001b[0m in \u001b[0;36madd_patch\u001b[1;34m(self, p)\u001b[0m\n\u001b[0;32m   2030\u001b[0m         \u001b[0mself\u001b[0m\u001b[1;33m.\u001b[0m\u001b[0m_set_artist_props\u001b[0m\u001b[1;33m(\u001b[0m\u001b[0mp\u001b[0m\u001b[1;33m)\u001b[0m\u001b[1;33m\u001b[0m\u001b[1;33m\u001b[0m\u001b[0m\n\u001b[0;32m   2031\u001b[0m         \u001b[1;32mif\u001b[0m \u001b[0mp\u001b[0m\u001b[1;33m.\u001b[0m\u001b[0mget_clip_path\u001b[0m\u001b[1;33m(\u001b[0m\u001b[1;33m)\u001b[0m \u001b[1;32mis\u001b[0m \u001b[1;32mNone\u001b[0m\u001b[1;33m:\u001b[0m\u001b[1;33m\u001b[0m\u001b[1;33m\u001b[0m\u001b[0m\n\u001b[1;32m-> 2032\u001b[1;33m             \u001b[0mp\u001b[0m\u001b[1;33m.\u001b[0m\u001b[0mset_clip_path\u001b[0m\u001b[1;33m(\u001b[0m\u001b[0mself\u001b[0m\u001b[1;33m.\u001b[0m\u001b[0mpatch\u001b[0m\u001b[1;33m)\u001b[0m\u001b[1;33m\u001b[0m\u001b[1;33m\u001b[0m\u001b[0m\n\u001b[0m\u001b[0;32m   2033\u001b[0m         \u001b[0mself\u001b[0m\u001b[1;33m.\u001b[0m\u001b[0m_update_patch_limits\u001b[0m\u001b[1;33m(\u001b[0m\u001b[0mp\u001b[0m\u001b[1;33m)\u001b[0m\u001b[1;33m\u001b[0m\u001b[1;33m\u001b[0m\u001b[0m\n\u001b[0;32m   2034\u001b[0m         \u001b[0mself\u001b[0m\u001b[1;33m.\u001b[0m\u001b[0mpatches\u001b[0m\u001b[1;33m.\u001b[0m\u001b[0mappend\u001b[0m\u001b[1;33m(\u001b[0m\u001b[0mp\u001b[0m\u001b[1;33m)\u001b[0m\u001b[1;33m\u001b[0m\u001b[1;33m\u001b[0m\u001b[0m\n",
      "\u001b[1;32m~\\Anaconda3\\lib\\site-packages\\matplotlib\\artist.py\u001b[0m in \u001b[0;36mset_clip_path\u001b[1;34m(self, path, transform)\u001b[0m\n\u001b[0;32m    752\u001b[0m             \u001b[1;32mif\u001b[0m \u001b[0misinstance\u001b[0m\u001b[1;33m(\u001b[0m\u001b[0mpath\u001b[0m\u001b[1;33m,\u001b[0m \u001b[0mRectangle\u001b[0m\u001b[1;33m)\u001b[0m\u001b[1;33m:\u001b[0m\u001b[1;33m\u001b[0m\u001b[1;33m\u001b[0m\u001b[0m\n\u001b[0;32m    753\u001b[0m                 self.clipbox = TransformedBbox(Bbox.unit(),\n\u001b[1;32m--> 754\u001b[1;33m                                                path.get_transform())\n\u001b[0m\u001b[0;32m    755\u001b[0m                 \u001b[0mself\u001b[0m\u001b[1;33m.\u001b[0m\u001b[0m_clippath\u001b[0m \u001b[1;33m=\u001b[0m \u001b[1;32mNone\u001b[0m\u001b[1;33m\u001b[0m\u001b[1;33m\u001b[0m\u001b[0m\n\u001b[0;32m    756\u001b[0m                 \u001b[0msuccess\u001b[0m \u001b[1;33m=\u001b[0m \u001b[1;32mTrue\u001b[0m\u001b[1;33m\u001b[0m\u001b[1;33m\u001b[0m\u001b[0m\n",
      "\u001b[1;32m~\\Anaconda3\\lib\\site-packages\\matplotlib\\patches.py\u001b[0m in \u001b[0;36mget_transform\u001b[1;34m(self)\u001b[0m\n\u001b[0;32m    258\u001b[0m     \u001b[1;32mdef\u001b[0m \u001b[0mget_transform\u001b[0m\u001b[1;33m(\u001b[0m\u001b[0mself\u001b[0m\u001b[1;33m)\u001b[0m\u001b[1;33m:\u001b[0m\u001b[1;33m\u001b[0m\u001b[1;33m\u001b[0m\u001b[0m\n\u001b[0;32m    259\u001b[0m         \u001b[1;34m\"\"\"Return the `~.transforms.Transform` applied to the `Patch`.\"\"\"\u001b[0m\u001b[1;33m\u001b[0m\u001b[1;33m\u001b[0m\u001b[0m\n\u001b[1;32m--> 260\u001b[1;33m         \u001b[1;32mreturn\u001b[0m \u001b[0mself\u001b[0m\u001b[1;33m.\u001b[0m\u001b[0mget_patch_transform\u001b[0m\u001b[1;33m(\u001b[0m\u001b[1;33m)\u001b[0m \u001b[1;33m+\u001b[0m \u001b[0martist\u001b[0m\u001b[1;33m.\u001b[0m\u001b[0mArtist\u001b[0m\u001b[1;33m.\u001b[0m\u001b[0mget_transform\u001b[0m\u001b[1;33m(\u001b[0m\u001b[0mself\u001b[0m\u001b[1;33m)\u001b[0m\u001b[1;33m\u001b[0m\u001b[1;33m\u001b[0m\u001b[0m\n\u001b[0m\u001b[0;32m    261\u001b[0m \u001b[1;33m\u001b[0m\u001b[0m\n\u001b[0;32m    262\u001b[0m     \u001b[1;32mdef\u001b[0m \u001b[0mget_data_transform\u001b[0m\u001b[1;33m(\u001b[0m\u001b[0mself\u001b[0m\u001b[1;33m)\u001b[0m\u001b[1;33m:\u001b[0m\u001b[1;33m\u001b[0m\u001b[1;33m\u001b[0m\u001b[0m\n",
      "\u001b[1;32m~\\Anaconda3\\lib\\site-packages\\matplotlib\\patches.py\u001b[0m in \u001b[0;36mget_patch_transform\u001b[1;34m(self)\u001b[0m\n\u001b[0;32m    790\u001b[0m \u001b[1;33m\u001b[0m\u001b[0m\n\u001b[0;32m    791\u001b[0m     \u001b[1;32mdef\u001b[0m \u001b[0mget_patch_transform\u001b[0m\u001b[1;33m(\u001b[0m\u001b[0mself\u001b[0m\u001b[1;33m)\u001b[0m\u001b[1;33m:\u001b[0m\u001b[1;33m\u001b[0m\u001b[1;33m\u001b[0m\u001b[0m\n\u001b[1;32m--> 792\u001b[1;33m         \u001b[0mself\u001b[0m\u001b[1;33m.\u001b[0m\u001b[0m_update_patch_transform\u001b[0m\u001b[1;33m(\u001b[0m\u001b[1;33m)\u001b[0m\u001b[1;33m\u001b[0m\u001b[1;33m\u001b[0m\u001b[0m\n\u001b[0m\u001b[0;32m    793\u001b[0m         \u001b[1;32mreturn\u001b[0m \u001b[0mself\u001b[0m\u001b[1;33m.\u001b[0m\u001b[0m_rect_transform\u001b[0m\u001b[1;33m\u001b[0m\u001b[1;33m\u001b[0m\u001b[0m\n\u001b[0;32m    794\u001b[0m \u001b[1;33m\u001b[0m\u001b[0m\n",
      "\u001b[1;32m~\\Anaconda3\\lib\\site-packages\\matplotlib\\patches.py\u001b[0m in \u001b[0;36m_update_patch_transform\u001b[1;34m(self)\u001b[0m\n\u001b[0;32m    771\u001b[0m         \u001b[0mbbox\u001b[0m \u001b[1;33m=\u001b[0m \u001b[0mtransforms\u001b[0m\u001b[1;33m.\u001b[0m\u001b[0mBbox\u001b[0m\u001b[1;33m.\u001b[0m\u001b[0mfrom_extents\u001b[0m\u001b[1;33m(\u001b[0m\u001b[0mx0\u001b[0m\u001b[1;33m,\u001b[0m \u001b[0my0\u001b[0m\u001b[1;33m,\u001b[0m \u001b[0mx1\u001b[0m\u001b[1;33m,\u001b[0m \u001b[0my1\u001b[0m\u001b[1;33m)\u001b[0m\u001b[1;33m\u001b[0m\u001b[1;33m\u001b[0m\u001b[0m\n\u001b[0;32m    772\u001b[0m         \u001b[0mrot_trans\u001b[0m \u001b[1;33m=\u001b[0m \u001b[0mtransforms\u001b[0m\u001b[1;33m.\u001b[0m\u001b[0mAffine2D\u001b[0m\u001b[1;33m(\u001b[0m\u001b[1;33m)\u001b[0m\u001b[1;33m\u001b[0m\u001b[1;33m\u001b[0m\u001b[0m\n\u001b[1;32m--> 773\u001b[1;33m         \u001b[0mrot_trans\u001b[0m\u001b[1;33m.\u001b[0m\u001b[0mrotate_deg_around\u001b[0m\u001b[1;33m(\u001b[0m\u001b[0mx0\u001b[0m\u001b[1;33m,\u001b[0m \u001b[0my0\u001b[0m\u001b[1;33m,\u001b[0m \u001b[0mself\u001b[0m\u001b[1;33m.\u001b[0m\u001b[0mangle\u001b[0m\u001b[1;33m)\u001b[0m\u001b[1;33m\u001b[0m\u001b[1;33m\u001b[0m\u001b[0m\n\u001b[0m\u001b[0;32m    774\u001b[0m         \u001b[0mself\u001b[0m\u001b[1;33m.\u001b[0m\u001b[0m_rect_transform\u001b[0m \u001b[1;33m=\u001b[0m \u001b[0mtransforms\u001b[0m\u001b[1;33m.\u001b[0m\u001b[0mBboxTransformTo\u001b[0m\u001b[1;33m(\u001b[0m\u001b[0mbbox\u001b[0m\u001b[1;33m)\u001b[0m\u001b[1;33m\u001b[0m\u001b[1;33m\u001b[0m\u001b[0m\n\u001b[0;32m    775\u001b[0m         \u001b[0mself\u001b[0m\u001b[1;33m.\u001b[0m\u001b[0m_rect_transform\u001b[0m \u001b[1;33m+=\u001b[0m \u001b[0mrot_trans\u001b[0m\u001b[1;33m\u001b[0m\u001b[1;33m\u001b[0m\u001b[0m\n",
      "\u001b[1;32m~\\Anaconda3\\lib\\site-packages\\matplotlib\\transforms.py\u001b[0m in \u001b[0;36mrotate_deg_around\u001b[1;34m(self, x, y, degrees)\u001b[0m\n\u001b[0;32m   1965\u001b[0m         \u001b[1;31m# Cast to float to avoid wraparound issues with uint8's\u001b[0m\u001b[1;33m\u001b[0m\u001b[1;33m\u001b[0m\u001b[1;33m\u001b[0m\u001b[0m\n\u001b[0;32m   1966\u001b[0m         \u001b[0mx\u001b[0m\u001b[1;33m,\u001b[0m \u001b[0my\u001b[0m \u001b[1;33m=\u001b[0m \u001b[0mfloat\u001b[0m\u001b[1;33m(\u001b[0m\u001b[0mx\u001b[0m\u001b[1;33m)\u001b[0m\u001b[1;33m,\u001b[0m \u001b[0mfloat\u001b[0m\u001b[1;33m(\u001b[0m\u001b[0my\u001b[0m\u001b[1;33m)\u001b[0m\u001b[1;33m\u001b[0m\u001b[1;33m\u001b[0m\u001b[0m\n\u001b[1;32m-> 1967\u001b[1;33m         \u001b[1;32mreturn\u001b[0m \u001b[0mself\u001b[0m\u001b[1;33m.\u001b[0m\u001b[0mtranslate\u001b[0m\u001b[1;33m(\u001b[0m\u001b[1;33m-\u001b[0m\u001b[0mx\u001b[0m\u001b[1;33m,\u001b[0m \u001b[1;33m-\u001b[0m\u001b[0my\u001b[0m\u001b[1;33m)\u001b[0m\u001b[1;33m.\u001b[0m\u001b[0mrotate_deg\u001b[0m\u001b[1;33m(\u001b[0m\u001b[0mdegrees\u001b[0m\u001b[1;33m)\u001b[0m\u001b[1;33m.\u001b[0m\u001b[0mtranslate\u001b[0m\u001b[1;33m(\u001b[0m\u001b[0mx\u001b[0m\u001b[1;33m,\u001b[0m \u001b[0my\u001b[0m\u001b[1;33m)\u001b[0m\u001b[1;33m\u001b[0m\u001b[1;33m\u001b[0m\u001b[0m\n\u001b[0m\u001b[0;32m   1968\u001b[0m \u001b[1;33m\u001b[0m\u001b[0m\n\u001b[0;32m   1969\u001b[0m     \u001b[1;32mdef\u001b[0m \u001b[0mtranslate\u001b[0m\u001b[1;33m(\u001b[0m\u001b[0mself\u001b[0m\u001b[1;33m,\u001b[0m \u001b[0mtx\u001b[0m\u001b[1;33m,\u001b[0m \u001b[0mty\u001b[0m\u001b[1;33m)\u001b[0m\u001b[1;33m:\u001b[0m\u001b[1;33m\u001b[0m\u001b[1;33m\u001b[0m\u001b[0m\n",
      "\u001b[1;32m~\\Anaconda3\\lib\\site-packages\\matplotlib\\transforms.py\u001b[0m in \u001b[0;36mrotate_deg\u001b[1;34m(self, degrees)\u001b[0m\n\u001b[0;32m   1943\u001b[0m         \u001b[1;32mand\u001b[0m \u001b[1;33m:\u001b[0m\u001b[0mmeth\u001b[0m\u001b[1;33m:\u001b[0m\u001b[0;31m`\u001b[0m\u001b[0mscale\u001b[0m\u001b[0;31m`\u001b[0m\u001b[1;33m.\u001b[0m\u001b[1;33m\u001b[0m\u001b[1;33m\u001b[0m\u001b[0m\n\u001b[0;32m   1944\u001b[0m         \"\"\"\n\u001b[1;32m-> 1945\u001b[1;33m         \u001b[1;32mreturn\u001b[0m \u001b[0mself\u001b[0m\u001b[1;33m.\u001b[0m\u001b[0mrotate\u001b[0m\u001b[1;33m(\u001b[0m\u001b[0mmath\u001b[0m\u001b[1;33m.\u001b[0m\u001b[0mradians\u001b[0m\u001b[1;33m(\u001b[0m\u001b[0mdegrees\u001b[0m\u001b[1;33m)\u001b[0m\u001b[1;33m)\u001b[0m\u001b[1;33m\u001b[0m\u001b[1;33m\u001b[0m\u001b[0m\n\u001b[0m\u001b[0;32m   1946\u001b[0m \u001b[1;33m\u001b[0m\u001b[0m\n\u001b[0;32m   1947\u001b[0m     \u001b[1;32mdef\u001b[0m \u001b[0mrotate_around\u001b[0m\u001b[1;33m(\u001b[0m\u001b[0mself\u001b[0m\u001b[1;33m,\u001b[0m \u001b[0mx\u001b[0m\u001b[1;33m,\u001b[0m \u001b[0my\u001b[0m\u001b[1;33m,\u001b[0m \u001b[0mtheta\u001b[0m\u001b[1;33m)\u001b[0m\u001b[1;33m:\u001b[0m\u001b[1;33m\u001b[0m\u001b[1;33m\u001b[0m\u001b[0m\n",
      "\u001b[1;32m~\\Anaconda3\\lib\\site-packages\\matplotlib\\transforms.py\u001b[0m in \u001b[0;36mrotate\u001b[1;34m(self, theta)\u001b[0m\n\u001b[0;32m   1931\u001b[0m         rotate_mtx = np.array([[a, -b, 0.0], [b, a, 0.0], [0.0, 0.0, 1.0]],\n\u001b[0;32m   1932\u001b[0m                               float)\n\u001b[1;32m-> 1933\u001b[1;33m         \u001b[0mself\u001b[0m\u001b[1;33m.\u001b[0m\u001b[0m_mtx\u001b[0m \u001b[1;33m=\u001b[0m \u001b[0mnp\u001b[0m\u001b[1;33m.\u001b[0m\u001b[0mdot\u001b[0m\u001b[1;33m(\u001b[0m\u001b[0mrotate_mtx\u001b[0m\u001b[1;33m,\u001b[0m \u001b[0mself\u001b[0m\u001b[1;33m.\u001b[0m\u001b[0m_mtx\u001b[0m\u001b[1;33m)\u001b[0m\u001b[1;33m\u001b[0m\u001b[1;33m\u001b[0m\u001b[0m\n\u001b[0m\u001b[0;32m   1934\u001b[0m         \u001b[0mself\u001b[0m\u001b[1;33m.\u001b[0m\u001b[0minvalidate\u001b[0m\u001b[1;33m(\u001b[0m\u001b[1;33m)\u001b[0m\u001b[1;33m\u001b[0m\u001b[1;33m\u001b[0m\u001b[0m\n\u001b[0;32m   1935\u001b[0m         \u001b[1;32mreturn\u001b[0m \u001b[0mself\u001b[0m\u001b[1;33m\u001b[0m\u001b[1;33m\u001b[0m\u001b[0m\n",
      "\u001b[1;32m<__array_function__ internals>\u001b[0m in \u001b[0;36mdot\u001b[1;34m(*args, **kwargs)\u001b[0m\n",
      "\u001b[1;31mKeyboardInterrupt\u001b[0m: "
     ]
    },
    {
     "data": {
      "image/png": "[encoded data removed]",
      "text/plain": [
       "<Figure size 1800x1800 with 110 Axes>"
      ]
     },
     "metadata": {
      "needs_background": "light"
     },
     "output_type": "display_data"
    }
   ],
   "source": [
    "sns.pairplot(numeric_data_df);"
   ]
  },
  {
   "cell_type": "markdown",
   "id": "786ce83d",
   "metadata": {},
   "source": [
    "# Training\n",
    "## K-Means.\n",
    "The first model I created was k-means with number of clusters set to 4. As expected the 4 playlists created were very large and not very useful but I found it interesting their sizes varied from 82-635."
   ]
  },
  {
   "cell_type": "markdown",
   "id": "2af9cd4d",
   "metadata": {},
   "source": [
    "Next I wanted to look at inertia (tightness of clusters) and try to create playlists with clusters of smaller inertia keeping in mind there are over 1,500 records. I found the inertia for 1 cluster all the way through 50 clusters. and plotted on a graph."
   ]
  },
  {
   "cell_type": "markdown",
   "id": "6babb719",
   "metadata": {},
   "source": [
    "The inertia is lowest with the model that finds 50 clusters and the range of songs in the created playlist was 11-56. When I look at the playlists created I found similarities in the songs that were grouped together. I also found duplicates in a few of the playlists which gave me confidence in the clustering algorithm.\n",
    "\n",
    "## Mean-Shift.\n",
    "The second model implemented was a mean-shift algorithm where the number of clusters was decided by the model and the parameter 'quantile' (0-1) was tuned to 0.1. The 10 playlists created were a little similar in size ranging from 82-247.\n",
    "\n",
    "### KPCA Dimensionality Reduction.\n",
    "The last models I trained used data with fewer features and experimented with deminsionality reduction using Kernel PCA. I experimented with data that ranged from 1-10 features and viewed the outputed playlists to try and find any interesting playlist combinations. I was able to find a a lot of uniqe playlist that grouped songs with similar sounds together. My library is mostly hip hop and rap but the latest models were able to put groups of songs together that were not typical sound of the overall library."
   ]
  },
  {
   "cell_type": "markdown",
   "id": "fff64be4",
   "metadata": {},
   "source": [
    "# Final model\n",
    "The best model is K-Means for this application because the user will have the biggest control over playlist size and k-means gernerally groups songs in similar cluster sizes. After investigating the playlists, the k-means model was able to create reliable groups of songs that I would consider putting into my library for personal use."
   ]
  },
  {
   "cell_type": "markdown",
   "id": "7f08cf31",
   "metadata": {},
   "source": [
    "# Summary - Key Findings, Insights and Next Steps \n",
    "I found skipping the log tranformation step made the k-means model more likely to pick out and place 'the beep test'(a unique running exercise saved as a song) into its own cluster of 1 song. Implementing the log transformation to the data caused a more smooth and rounded set of playlist but track was incorrectly grouped together with other songs while it felt more like an outlier.\n",
    "\n",
    "I found it incouraging that multiple songs made by the same artists made it into the same playlist and outlier songs were picked out.\n",
    "\n",
    "#### Next Steps\n",
    "* Implementing a Playlist name creator using NLP that would name the playlist based on the highest rated feature along with song names.\n",
    "* Find a reliable source of play counts that could be used as an additional weighted feature. \n",
    "* Put the newly created playlists back onto my spotify account "
   ]
  },
  {
   "cell_type": "markdown",
   "id": "ebdf32d3",
   "metadata": {},
   "source": [
    "#### Sample Playlist:"
   ]
  },
  {
   "cell_type": "markdown",
   "id": "56ffaaa6",
   "metadata": {},
   "source": [
    "# Import data"
   ]
  },
  {
   "cell_type": "code",
   "execution_count": null,
   "id": "d4b26257",
   "metadata": {
    "scrolled": false
   },
   "outputs": [],
   "source": [
    "import pandas as pd\n",
    "df = pd.read_csv(\"spotifyLibrary.csv\", encoding='utf-8')\n",
    "\n",
    "numeric_data = [x for x in df.columns if x not in [\"key\",\"mode\",\"time_signature\",\n",
    "                                                   \"type\",\"uri\",\"id\",\"track_href\",\"Unnamed: 0\",\n",
    "                                                   \"analysis_url\"]]\n",
    "\n",
    "numeric_data_df = df[numeric_data].set_index(df['id'])\n",
    "numeric_data_df\n",
    "\n",
    "from matplotlib import pyplot as plt\n",
    "import seaborn as sns\n",
    "import numpy as np\n",
    "\n",
    "#create figure for heatmap plot\n",
    "plt.figure(figsize = (15,10)) # width x height\n",
    "\n",
    "corr = numeric_data_df.corr()\n",
    "cmap = sns.diverging_palette(220, 10, as_cmap=True)\n",
    "mask = np.triu(np.ones_like(corr, dtype=bool))\n",
    "#use heatmatp function to visualize correlations\n",
    "corrHeatmap = sns.heatmap(corr, mask= mask, cmap=cmap,annot=True)"
   ]
  },
  {
   "cell_type": "code",
   "execution_count": null,
   "id": "2e6b0af2",
   "metadata": {
    "scrolled": false
   },
   "outputs": [],
   "source": [
    "# numeric_data_df.describe()"
   ]
  },
  {
   "cell_type": "code",
   "execution_count": null,
   "id": "118020df",
   "metadata": {
    "scrolled": false
   },
   "outputs": [],
   "source": [
    "#rank  correlated values in descending order\n",
    "for x in range(len(corr)):\n",
    "    corr.iloc[x,x] = 0.0\n",
    "    \n",
    "corr.abs().max().sort_values(ascending=False)"
   ]
  },
  {
   "cell_type": "markdown",
   "id": "1357338e",
   "metadata": {},
   "source": [
    "# Adressing Skewed Data"
   ]
  },
  {
   "cell_type": "code",
   "execution_count": null,
   "id": "fe157ae4",
   "metadata": {
    "scrolled": false
   },
   "outputs": [],
   "source": [
    "# #Create a pairplot of the original data to get an idea of shape and distribution of features\n",
    "# sns.set_context('notebook')\n",
    "# sns.set_style('white')\n",
    "# sns.pairplot(numeric_data_df);"
   ]
  },
  {
   "cell_type": "markdown",
   "id": "0b9a7440",
   "metadata": {},
   "source": [
    "## Columns with skew greater than 0.75"
   ]
  },
  {
   "cell_type": "code",
   "execution_count": null,
   "id": "8e6db38d",
   "metadata": {
    "scrolled": false
   },
   "outputs": [],
   "source": [
    "# print out features with skew greater than 0.75.\n",
    "skew_columns = numeric_data_df.skew().sort_values(ascending=False)\n",
    "skew_columns = skew_columns.loc[skew_columns > 0.75]\n",
    "skew_columns"
   ]
  },
  {
   "cell_type": "code",
   "execution_count": null,
   "id": "8206d024",
   "metadata": {},
   "outputs": [],
   "source": [
    "import numpy as np\n",
    "from scipy import stats\n",
    "\n",
    "#t_data_df will be the transformed data for addressing skewness\n",
    "t_data_df = numeric_data_df.copy()\n",
    "#(numeric_data_df.instrumentalness).unique().size\n",
    "#np.sqrt(numeric_data_df.instrumentalness).hist()\n",
    "t_data_df['instrumentalness'] = t_data_df['instrumentalness'].replace(0,0.0000001)\n",
    "t_data_df['instrumentalness'] = stats.boxcox(t_data_df['instrumentalness'])[0]\n",
    "t_data_df['duration_ms'] = np.log(t_data_df['duration_ms'])\n",
    "t_data_df['liveness'] = np.log(t_data_df['liveness'])\n",
    "t_data_df['acousticness'] = stats.boxcox(t_data_df['acousticness'])[0]\n",
    "t_data_df['speechiness'] = np.log(t_data_df['speechiness'])"
   ]
  },
  {
   "cell_type": "code",
   "execution_count": null,
   "id": "ae3c420f",
   "metadata": {},
   "outputs": [],
   "source": [
    "skew_columns = t_data_df.skew().sort_values(ascending=False)\n",
    "skew_columns = skew_columns.loc[skew_columns > 0.75]\n",
    "skew_columns"
   ]
  },
  {
   "cell_type": "code",
   "execution_count": null,
   "id": "00ead682",
   "metadata": {},
   "outputs": [],
   "source": [
    "# t_data_df['instrumentalness'].skew()\n",
    "# (t_data_df['duration_ms']).skew()\n",
    "# (t_data_df['liveness']).skew()\n",
    "# (t_data_df['acousticness']).skew()\n",
    "skew_data = ['instrumentalness','duration_ms','liveness','acousticness','speechiness']\n",
    "sns.pairplot(t_data_df[skew_data])"
   ]
  },
  {
   "cell_type": "markdown",
   "id": "cf9aee67",
   "metadata": {},
   "source": [
    "# Scaling Features"
   ]
  },
  {
   "cell_type": "code",
   "execution_count": null,
   "id": "f7ee0ac6",
   "metadata": {
    "scrolled": false
   },
   "outputs": [],
   "source": [
    "from sklearn.preprocessing import MinMaxScaler\n",
    "\n",
    "sc = MinMaxScaler()\n",
    "scaledFeatures = sc.fit_transform(t_data_df)\n",
    "scaledFeatures_df = pd.DataFrame(scaledFeatures, index=t_data_df.index, columns=t_data_df.columns)\n",
    "scaledFeatures_df"
   ]
  },
  {
   "cell_type": "markdown",
   "id": "95b59901",
   "metadata": {},
   "source": [
    "## K-Means"
   ]
  },
  {
   "cell_type": "code",
   "execution_count": null,
   "id": "1fde175e",
   "metadata": {
    "scrolled": false
   },
   "outputs": [],
   "source": [
    "from sklearn.cluster import KMeans\n",
    "from sklearn.metrics import pairwise_distances_argmin_min\n",
    "\n",
    "km = KMeans(n_clusters=3,random_state=42)\n",
    "km = km.fit(scaledFeatures_df)\n",
    "\n",
    "df['kmeans'] = km.predict(scaledFeatures_df)\n",
    "\n",
    "df.groupby(['kmeans']).size()"
   ]
  },
  {
   "cell_type": "code",
   "execution_count": null,
   "id": "3e16537c",
   "metadata": {},
   "outputs": [],
   "source": [
    "closest, _ = pairwise_distances_argmin_min(km.cluster_centers_, scaledFeatures_df)\n",
    "scaledFeatures_df.iloc[closest]"
   ]
  },
  {
   "cell_type": "code",
   "execution_count": null,
   "id": "e8b54036",
   "metadata": {},
   "outputs": [],
   "source": [
    "df.loc[closest,'kmeans'] = 3\n",
    "df['size'] = 10\n",
    "df.loc[closest,'size'] = 30"
   ]
  },
  {
   "cell_type": "code",
   "execution_count": null,
   "id": "c89fbf89",
   "metadata": {},
   "outputs": [],
   "source": []
  },
  {
   "cell_type": "code",
   "execution_count": null,
   "id": "5629b8dc",
   "metadata": {
    "scrolled": false
   },
   "outputs": [],
   "source": [
    "import plotly.express as px\n",
    "from sklearn.decomposition import PCA\n",
    "\n",
    "pca = PCA(n_components=2)\n",
    "components = pca.fit_transform(scaledFeatures_df)\n",
    "\n",
    "fig = px.scatter(components, x=0, y=1, color= df['kmeans'])\n",
    "\n",
    "fig.update_traces(marker=dict(size=df['size']),\n",
    "                  selector=dict(mode='markers'))\n",
    "fig.show()"
   ]
  },
  {
   "cell_type": "code",
   "execution_count": null,
   "id": "233ceeb8",
   "metadata": {},
   "outputs": [],
   "source": [
    "pca = PCA(n_components=3)\n",
    "components = pca.fit_transform(scaledFeatures_df)\n",
    "\n",
    "fig = px.scatter_3d(components, x=0, y=1,z=2, color= df['kmeans'])\n",
    "\n",
    "fig.update_traces(marker=dict(size=df['size']),\n",
    "                  selector=dict(mode='markers'))\n",
    "fig.show()"
   ]
  },
  {
   "cell_type": "code",
   "execution_count": null,
   "id": "11a6e524",
   "metadata": {},
   "outputs": [],
   "source": []
  },
  {
   "cell_type": "code",
   "execution_count": null,
   "id": "06ab181f",
   "metadata": {
    "scrolled": true
   },
   "outputs": [],
   "source": [
    "# # #create and fit a range of models\n",
    "# km_list = list()\n",
    "\n",
    "# for clust in range(1,50):\n",
    "#     km = KMeans(n_clusters = clust, random_state=42)\n",
    "#     km = km.fit(scaledFeatures_df)\n",
    "#     km_list.append(pd.Series({\n",
    "#         'clusters':clust,\n",
    "#         'inertia':km.inertia_,\n",
    "#         'model':km\n",
    "#     }))\n",
    "    \n",
    "# plot_data = (pd.concat(km_list,axis=1)\n",
    "#         .T[['clusters','inertia']]\n",
    "#         .set_index('clusters'))\n",
    "\n",
    "# ax = plot_data.plot(marker='o',ls='-')\n",
    "# ax.set_xticks(range(0,51,2))\n",
    "# ax.set_xlim(0,51)\n",
    "# ax.set(xlabel='Cluster',ylabel='Inertia')"
   ]
  },
  {
   "cell_type": "code",
   "execution_count": null,
   "id": "e200e77b",
   "metadata": {},
   "outputs": [],
   "source": []
  },
  {
   "cell_type": "markdown",
   "id": "b8113064",
   "metadata": {},
   "source": [
    "# Which songs are closest to the center points of the 3 clusters?"
   ]
  },
  {
   "cell_type": "code",
   "execution_count": null,
   "id": "1f0b15d9",
   "metadata": {},
   "outputs": [],
   "source": [
    "scaledFeatures_df.iloc[closest]"
   ]
  },
  {
   "cell_type": "code",
   "execution_count": null,
   "id": "67c50612",
   "metadata": {},
   "outputs": [],
   "source": [
    "import spotipy\n",
    "from spotipy.oauth2 import SpotifyClientCredentials\n",
    "import spotipy.util as util\n",
    "username= 'john3baskerville'\n",
    "token = util.prompt_for_user_token(username,\n",
    "                           'user-library-read',\n",
    "                           client_id='97537d196d1345ecb17c19537d54174a',\n",
    "                           client_secret='003cf70c6be14a9e991e75f52930c5e3',\n",
    "                           redirect_uri='http://localhost:8080')\n",
    "\n",
    "sp = spotipy.Spotify(auth=token)\n",
    "\n",
    "# tracks = sp.tracks(minPlaylist[:50])\n",
    "# for value in tracks['tracks']:\n",
    "#     print(value['name'],\"-\", value['artists'][0]['name'])\n",
    "#get the id for each of the closest song - marked as 3\n",
    "songIds = df['id'][df['kmeans'] == 3]\n",
    "\n",
    "#sp.tracks(songIds)\n",
    "\n",
    "fullIdList = df['id']\n",
    "\n",
    "#get song names for 3 center songs\n",
    "tracks = sp.tracks(songIds)\n",
    "\n",
    "for value in tracks['tracks']:\n",
    "    print(value['name'])\n",
    "    for artist in value['artists']:\n",
    "        print(\" \" + artist['name'])"
   ]
  },
  {
   "cell_type": "code",
   "execution_count": null,
   "id": "f87ec9c8",
   "metadata": {},
   "outputs": [],
   "source": [
    "#get song names added to df \n",
    "tracks = sp.tracks(df['id'])\n",
    "\n",
    "for value in tracks['tracks']:\n",
    "    #print(value['name'])\n",
    "    while value['next']:\n",
    "        print(\" \" + artist['name'])"
   ]
  },
  {
   "cell_type": "code",
   "execution_count": null,
   "id": "bd140661",
   "metadata": {},
   "outputs": [],
   "source": [
    "df.columns"
   ]
  },
  {
   "cell_type": "code",
   "execution_count": null,
   "id": "229562f1",
   "metadata": {},
   "outputs": [],
   "source": [
    "sns.histplot(x='valence',data = df, hue=\"kmeans\")"
   ]
  },
  {
   "cell_type": "markdown",
   "id": "b6960ee0",
   "metadata": {},
   "source": [
    "## Mean Shift"
   ]
  },
  {
   "cell_type": "code",
   "execution_count": null,
   "id": "cf822f24",
   "metadata": {
    "scrolled": false
   },
   "outputs": [],
   "source": [
    "from sklearn.cluster import MeanShift, estimate_bandwidth\n",
    "\n",
    "bandwidth = estimate_bandwidth(scaledFeatures_df, quantile=.03, n_samples=1500)\n",
    "ms = MeanShift(bandwidth=bandwidth, bin_seeding=True)\n",
    "msFit = ms.fit(scaledFeatures_df)\n",
    "df['meanshift'] = msFit.predict(scaledFeatures_df)\n",
    "df.groupby(['meanshift']).size().to_frame"
   ]
  },
  {
   "cell_type": "code",
   "execution_count": null,
   "id": "fc59a0ec",
   "metadata": {
    "scrolled": false
   },
   "outputs": [],
   "source": []
  },
  {
   "cell_type": "code",
   "execution_count": null,
   "id": "48070c84",
   "metadata": {},
   "outputs": [],
   "source": [
    "pca = PCA(n_components=3)\n",
    "components = pca.fit_transform(scaledFeatures_df)\n",
    "\n",
    "fig = px.scatter_3d(components, x=0, y=1,z=2, color = df['meanshift'])\n",
    "fig.show()"
   ]
  },
  {
   "cell_type": "markdown",
   "id": "d89e284e",
   "metadata": {},
   "source": [
    "### Pipeline Transformations"
   ]
  },
  {
   "cell_type": "code",
   "execution_count": null,
   "id": "8ee35e35",
   "metadata": {
    "scrolled": false
   },
   "outputs": [],
   "source": [
    "# from sklearn.preprocessing import FunctionTransformer\n",
    "# from sklearn.pipeline import Pipeline\n",
    "\n",
    "# #custom log transformer\n",
    "# log_transformer = FunctionTransformer(np.log1p)\n",
    "\n",
    "# #Pipeline\n",
    "# estimators = [('minmaxscale', MinMaxScaler())]\n",
    "# pipeline = Pipeline(estimators)\n",
    "\n",
    "# #convert Original data using the newly created pipeline from above\n",
    "# pipe_data = pipeline.fit_transform(numeric_data_df)\n",
    "# data_pipe_df = pd.DataFrame(data_pipe, index=numeric_data_df.index, columns=PipeData.columns)"
   ]
  },
  {
   "cell_type": "code",
   "execution_count": null,
   "id": "40138b3e",
   "metadata": {
    "scrolled": false
   },
   "outputs": [],
   "source": []
  },
  {
   "cell_type": "markdown",
   "id": "f638f9db",
   "metadata": {},
   "source": [
    "## KPCA"
   ]
  },
  {
   "cell_type": "code",
   "execution_count": null,
   "id": "601d7749",
   "metadata": {
    "scrolled": false
   },
   "outputs": [],
   "source": [
    "from sklearn.decomposition import KernelPCA\n",
    "from sklearn.model_selection import GridSearchCV\n",
    "from sklearn.metrics import mean_squared_error\n",
    "\n",
    "# Custom scorer--use negative rmse of inverse transform\n",
    "def scorer(pcamodel, X, y=None):\n",
    "    try:\n",
    "        X_val = X.values\n",
    "    except:\n",
    "        X_val = X\n",
    "    # Calculate and inverse transform the data\n",
    "    data_inv = pcamodel.fit(X_val).transform(X_val)\n",
    "    data_inv = pcamodel.inverse_transform(data_inv)\n",
    "    \n",
    "    # The error calculation\n",
    "    mse = mean_squared_error(data_inv.ravel(), X_val.ravel())\n",
    "    \n",
    "    # Larger values are better for scorers, so take negative value\n",
    "    return -1.0 * mse\n",
    "\n",
    "# The grid search parameters\n",
    "param_grid = {'gamma':[0.001, 0.01, 0.05, 0.1, 0.5, 1.0],\n",
    "              'n_components': [2, 3, 4,5,6,7,8,9,10]}\n",
    "\n",
    "# The grid search\n",
    "kernelPCA = GridSearchCV(KernelPCA(kernel='rbf', fit_inverse_transform=True),\n",
    "                         param_grid=param_grid,\n",
    "                         scoring=scorer,\n",
    "                         n_jobs=-1)\n",
    "\n",
    "kpca_list = list()\n",
    "kpcafeature_weight_list = list()\n",
    "\n",
    "for n in range(1,11):\n",
    "    kPCAmod = KernelPCA(kernel='linear',n_components=n, fit_inverse_transform=True)\n",
    "    # Calculate and inverse transform the data\n",
    "    data_inv = kPCAmod.fit(scaledFeatures_df).transform(scaledFeatures_df)\n",
    "    data_inv = kPCAmod.inverse_transform(data_inv)\n",
    "    \n",
    "    # The error calculation\n",
    "    mse = mean_squared_error(data_inv.ravel(), scaledFeatures_df.values.ravel())\n",
    "    \n",
    "    kpca_list.append(pd.Series({'n':n,'model':kPCAmod,'mse':mse}))\n",
    "    kpca_df = pd.concat(kpca_list,axis=1).T.set_index('n')\n",
    "kpca_df"
   ]
  },
  {
   "cell_type": "code",
   "execution_count": null,
   "id": "b922707b",
   "metadata": {
    "scrolled": false
   },
   "outputs": [],
   "source": [
    "kpca_data = kpca_list[0].model.fit(scaledFeatures).transform(scaledFeatures_df)"
   ]
  },
  {
   "cell_type": "code",
   "execution_count": null,
   "id": "671184b9",
   "metadata": {
    "scrolled": false
   },
   "outputs": [],
   "source": [
    "kpca_data.shape"
   ]
  },
  {
   "cell_type": "code",
   "execution_count": null,
   "id": "bec55502",
   "metadata": {},
   "outputs": [],
   "source": [
    "kpca = KernelPCA(n_components=3)\n",
    "kpcacomponents = kpca.fit_transform(scaledFeatures_df)\n",
    "\n",
    "fig = px.scatter_3d(kpcacomponents, x=0, y=1,z=2, color = df['kmeans'])\n",
    "fig.show()"
   ]
  },
  {
   "cell_type": "code",
   "execution_count": null,
   "id": "8204baee",
   "metadata": {
    "scrolled": false
   },
   "outputs": [],
   "source": [
    "from sklearn.decomposition import PCA\n",
    "\n",
    "pca_list = list()\n",
    "feature_weight_list = list()\n",
    "\n",
    "for n in range(1,11):\n",
    "    PCAmod = PCA(n_components=n)\n",
    "    PCAmod.fit(scaledFeatures_df)\n",
    "    \n",
    "    pca_list.append(pd.Series({'values':PCAmod.singular_values_,'n':n,'model':PCAmod,'var':PCAmod.explained_variance_ratio_.sum()}))\n",
    "\n",
    "    weights = PCAmod.explained_variance_ratio_.reshape(-1,1)/PCAmod.explained_variance_ratio_.sum()\n",
    "    overall_contribution = np.abs(PCAmod.components_)*weights\n",
    "    abs_feature_values = overall_contribution.sum(axis=0)\n",
    "    feature_weight_list.append(pd.DataFrame({'n':n,'features':scaledFeatures_df.columns,'values':abs_feature_values/abs_feature_values.sum()}))\n",
    "    \n",
    "pca_df = pd.concat(pca_list,axis=1).T.set_index('n')\n",
    "pca_df"
   ]
  },
  {
   "cell_type": "code",
   "execution_count": null,
   "id": "70d677e5",
   "metadata": {
    "scrolled": false
   },
   "outputs": [],
   "source": [
    "#import spotipy\n",
    "# from spotipy.oauth2 import SpotifyClientCredentials\n",
    "# import spotipy.util as util\n",
    "# username= 'john3baskerville'\n",
    "# token = util.prompt_for_user_token(username,\n",
    "#                            'user-library-read',\n",
    "#                            client_id='97537d196d1345ecb17c19537d54174a',\n",
    "#                            client_secret='003cf70c6be14a9e991e75f52930c5e3',\n",
    "#                            redirect_uri='http://localhost:8080')\n",
    "\n",
    "# sp = spotipy.Spotify(auth=token)\n",
    "\n",
    "\n",
    "# tracks = sp.tracks(minPlaylist[:50])\n",
    "\n",
    "# for value in tracks['tracks']:\n",
    "#     print(value['name'],\"-\", value['artists'][0]['name'])\n",
    "\n",
    "#minPlaylist = scaledFeatures_df[scaledFeatures_df['KPCAMeanShift'] == 1].index\n",
    "\n",
    "# username= 'john3baskerville'\n",
    "# token = util.prompt_for_user_token(username,\n",
    "#                            'user-library-read',\n",
    "#                            client_id='97537d196d1345ecb17c19537d54174a',\n",
    "#                            client_secret='003cf70c6be14a9e991e75f52930c5e3',\n",
    "#                            redirect_uri='http://localhost:8080')\n",
    "\n",
    "# sp = spotipy.Spotify(auth=token)\n",
    "\n",
    "\n",
    "# tracks = sp.tracks(minPlaylist[:25])\n",
    "\n",
    "# for value in tracks['tracks']:\n",
    "#     print(value['name'])\n",
    "#     for artist in value['artists']:\n",
    "#         print(\" \" + artist['name'])"
   ]
  },
  {
   "cell_type": "code",
   "execution_count": null,
   "id": "1340cd9a",
   "metadata": {
    "scrolled": true,
    "tags": [
     "remove_cell"
    ]
   },
   "outputs": [],
   "source": [
    "# -*- coding: utf-8 -*-\n",
    "\n",
    "from traitlets.config import Config\n",
    "import nbformat as nbf\n",
    "from nbconvert.exporters import HTMLExporter\n",
    "from nbconvert.preprocessors import TagRemovePreprocessor\n",
    "\n",
    "# Setup config\n",
    "c = Config()\n",
    "\n",
    "# Configure tag removal - be sure to tag your cells to remove  using the\n",
    "# words remove_cell to remove cells. You can also modify the code to use\n",
    "# a different tag word\n",
    "c.TagRemovePreprocessor.remove_cell_tags = (\"remove_cell\",)\n",
    "c.TagRemovePreprocessor.remove_all_outputs_tags = ('remove_output',)\n",
    "c.TagRemovePreprocessor.remove_input_tags = ('remove_input',)\n",
    "c.TagRemovePreprocessor.enabled = True\n",
    "\n",
    "# Configure and run out exporter\n",
    "c.HTMLExporter.preprocessors = [\"nbconvert.preprocessors.TagRemovePreprocessor\"]\n",
    "\n",
    "exporter = HTMLExporter(config=c)\n",
    "exporter.register_preprocessor(TagRemovePreprocessor(config=c),True)\n",
    "\n",
    "# Configure and run our exporter - returns a tuple - first element with html,\n",
    "# second with notebook metadata\n",
    "output = HTMLExporter(config=c).from_filename(\"Unsupervised Learning Project - Final.ipynb\")\n",
    "\n",
    "# Write to output html file\n",
    "with open(\"Unsupervised Learning Project - Final.html\",  \"w\", encoding=\"utf-8\") as f:\n",
    "    f.write(output[0])"
   ]
  },
  {
   "cell_type": "markdown",
   "id": "065bb63a",
   "metadata": {},
   "source": [
    "## long description of the data \n",
    "### duration_ms\n",
    "int\tThe duration of the track in milliseconds.\n",
    "### acousticness\n",
    "float\tA confidence measure from 0.0 to 1.0 of whether the track is acoustic. 1.0 represents high confidence the track is acoustic. The distribution of values for this feature look like this:Acousticness distribution\n",
    "### danceability\n",
    "float\tDanceability describes how suitable a track is for dancing based on a combination of musical elements including tempo, rhythm stability, beat strength, and overall regularity. A value of 0.0 is least danceable and 1.0 is most danceable. The distribution of values for this feature look like this:Danceability distribution\n",
    "### energy\n",
    "float\tEnergy is a measure from 0.0 to 1.0 and represents a perceptual measure of intensity and activity. Typically, energetic tracks feel fast, loud, and noisy. For example, death metal has high energy, while a Bach prelude scores low on the scale. Perceptual features contributing to this attribute include dynamic range, perceived loudness, timbre, onset rate, and general entropy. The distribution of values for this feature look like this:Energy distribution\n",
    "### instrumentalness\n",
    "float\tPredicts whether a track contains no vocals. “Ooh” and “aah” sounds are treated as instrumental in this context. Rap or spoken word tracks are clearly “vocal”. The closer the instrumentalness value is to 1.0, the greater likelihood the track contains no vocal content. Values above 0.5 are intended to represent instrumental tracks, but confidence is higher as the value approaches 1.0. The distribution of values for this feature look like this:Instrumentalness distribution\n",
    "### liveness\n",
    "float\tDetects the presence of an audience in the recording. Higher liveness values represent an increased probability that the track was performed live. A value above 0.8 provides strong likelihood that the track is live. The distribution of values for this feature look like this:Liveness distribution\n",
    "### loudness\n",
    "float\tThe overall loudness of a track in decibels (dB). Loudness values are averaged across the entire track and are useful for comparing relative loudness of tracks. Loudness is the quality of a sound that is the primary psychological correlate of physical strength (amplitude). Values typical range between -60 and 0 db. The distribution of values for this feature look like this:Loudness distribution\n",
    "### speechiness\n",
    "float\tSpeechiness detects the presence of spoken words in a track. The more exclusively speech-like the recording (e.g. talk show, audio book, poetry), the closer to 1.0 the attribute value. Values above 0.66 describe tracks that are probably made entirely of spoken words. Values between 0.33 and 0.66 describe tracks that may contain both music and speech, either in sections or layered, including such cases as rap music. Values below 0.33 most likely represent music and other non-speech-like tracks. The distribution of values for this feature look like this:Speechiness distribution\n",
    "### valence\n",
    "float\tA measure from 0.0 to 1.0 describing the musical positiveness conveyed by a track. Tracks with high valence sound more positive (e.g. happy, cheerful, euphoric), while tracks with low valence sound more negative (e.g. sad, depressed, angry). The distribution of values for this feature look like this:Valence distribution\n",
    "### tempo\n",
    "float\tThe overall estimated tempo of a track in beats per minute (BPM). In musical terminology, tempo is the speed or pace of a given piece and derives directly from the average beat duration. The distribution of values for this feature look like this:Tempo distribution"
   ]
  }
 ],
 "metadata": {
  "kernelspec": {
   "display_name": "Python 3",
   "language": "python",
   "name": "python3"
  },
  "language_info": {
   "codemirror_mode": {
    "name": "ipython",
    "version": 3
   },
   "file_extension": ".py",
   "mimetype": "text/x-python",
   "name": "python",
   "nbconvert_exporter": "python",
   "pygments_lexer": "ipython3",
   "version": "3.8.8"
  }
 },
 "nbformat": 4,
 "nbformat_minor": 5
}
