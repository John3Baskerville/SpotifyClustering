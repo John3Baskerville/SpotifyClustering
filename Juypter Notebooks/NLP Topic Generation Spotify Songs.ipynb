{
 "cells": [
  {
   "cell_type": "markdown",
   "id": "404a9837",
   "metadata": {},
   "source": [
    "Import clusterd song data and use NLP algorithms to help generate topics (Playlist Name) for each cluster. "
   ]
  },
  {
   "cell_type": "code",
   "execution_count": 16,
   "id": "a2bbde08",
   "metadata": {},
   "outputs": [],
   "source": [
    "import pandas as pd\n",
    "songData = pd.read_csv('songDataKProto.csv')"
   ]
  },
  {
   "cell_type": "code",
   "execution_count": 17,
   "id": "dee4a052",
   "metadata": {},
   "outputs": [],
   "source": [
    "groupby = songData.groupby('kproto')"
   ]
  },
  {
   "cell_type": "code",
   "execution_count": 18,
   "id": "a2b8d62d",
   "metadata": {},
   "outputs": [],
   "source": [
    "#get a list of cluster lables sorted\n",
    "kprotoLabels = sorted(list(songData['kproto'].unique()))\n",
    "songDict = {}\n",
    "\n",
    "#make a dictionary with key = label, value = all song names fit into one string\n",
    "for i in kprotoLabels:\n",
    "    songDict[i] = groupby.get_group(i).songName.str.cat(sep=' ')"
   ]
  },
  {
   "cell_type": "code",
   "execution_count": 19,
   "id": "5a93149a",
   "metadata": {},
   "outputs": [],
   "source": [
    "#songDict"
   ]
  },
  {
   "cell_type": "code",
   "execution_count": 20,
   "id": "1ae2205d",
   "metadata": {},
   "outputs": [],
   "source": [
    "songStringDF = pd.DataFrame.from_dict(songDict, orient='index')"
   ]
  },
  {
   "cell_type": "code",
   "execution_count": 21,
   "id": "5cb860ea",
   "metadata": {},
   "outputs": [],
   "source": [
    "songStringDF.columns=['songNamesString']"
   ]
  },
  {
   "cell_type": "markdown",
   "id": "d3f00000",
   "metadata": {},
   "source": [
    "Corpus (one body of text for each cluster)"
   ]
  },
  {
   "cell_type": "code",
   "execution_count": 36,
   "id": "cfdcddde",
   "metadata": {},
   "outputs": [
    {
     "data": {
      "text/html": [
       "<div>\n",
       "<style scoped>\n",
       "    .dataframe tbody tr th:only-of-type {\n",
       "        vertical-align: middle;\n",
       "    }\n",
       "\n",
       "    .dataframe tbody tr th {\n",
       "        vertical-align: top;\n",
       "    }\n",
       "\n",
       "    .dataframe thead th {\n",
       "        text-align: right;\n",
       "    }\n",
       "</style>\n",
       "<table border=\"1\" class=\"dataframe\">\n",
       "  <thead>\n",
       "    <tr style=\"text-align: right;\">\n",
       "      <th></th>\n",
       "      <th>songNamesString</th>\n",
       "    </tr>\n",
       "  </thead>\n",
       "  <tbody>\n",
       "    <tr>\n",
       "      <th>0</th>\n",
       "      <td>Jail pt 2 good 4 u Don’t Go (with Justin Bieber &amp; Don Toliver) No Limit Need To Know Miss The Rage (feat. Playboi Carti) HEADY Love/Paranoia Patagonia Love Lies (with Normani) TIME FOR YOU Slide Away 3, 2, 1 Some Things Never Change Wolves What’s Next Bad Boy (with Young Thug) Vetement Socks Stars In The Sky (feat. Jhené Aiko) Sweater Weather Lemonade Conversations Habit Cardigan Anything Can Happen (feat. Meek Mill) Señorita Turn Me Down - Dark Heart Remix Call Out My Name HAD ENOUGH (feat. Quavo &amp; Offset) Crawling Why I Love You It Gets Better NOBODY FALLS Temporary Insanity CAROUSEL Us and Them Divide (feat. Kelsey Bulkin) Memories Sunflower - Spider-Man: Into the Spider-Verse Money In The Grave (Drake ft. Rick Ross) Baby Sitter (feat. Offset) Under Enemy Arms Wait Up Go Loko (feat. Tyga, Jon Z) Love Galore Cry Wasteland I XTCY Chi Chi (feat. Chris Brown) NO BYSTANDERS Alley-Oop (feat. iDA HAWK) Women 6's to 9's (feat. Rationale) Sundress Just Friends Chanel (feat. Swae Lee &amp; Ph...</td>\n",
       "    </tr>\n",
       "    <tr>\n",
       "      <th>1</th>\n",
       "      <td>Remote Control I'm Just Snacking Sept. 16 Just For Me (feat. SZA) - Space Jam: A New Legacy Calabria (feat. Lujavo &amp; Nito-Onna) For Aisha (Featured in \"The Sky Is Pink\") Trenches Thunderstruck Don't Speak Karma &amp; Friends Butterflies (with Starrah &amp; Four Tet) Groovy Tony / Eddie Kane Diamonds Dancing (feat. Travis Scott) Around Ark Love Is a Battlefield Only Wanna Be With You - Pokémon 25 Version Runnin Spotlight Elsie's Baby Boy (flashback) SQUARE UP (feat. Juicy J) Wonder Tick Tock Heavy Hearted ZZZ's High Right Now (feat. Wiz Khalifa) - Remix Right Time - Ferreck Dawn Remix The Machine Blue Train Lines Tide Pen (feat. Jack Harlow) More Than You Thought Turning - Flume Remix Pop Shit Harlem Shake (feat. Young Thug) Tokyo Drifting (with Denzel Curry) Heaven Or Hell Are You Feeling Sad? After Hours Rollin' Stone All Yours Dancin (feat. Luvli) - Krono Remix Female Energy, Part 2 Everlong Crash Into Me - Settle Down Steavis Aoki Remix Safety (feat. DJ Snake) - Dark Heart 2am Mix WHAT ...</td>\n",
       "    </tr>\n",
       "    <tr>\n",
       "      <th>2</th>\n",
       "      <td>TSU Options (feat. JID) 24 (feat. Lil Baby) Rare MASSA Kielbasa Marigold ROLLIN N CONTROLLIN FREESTYLE Goodie Bag Cookie Chips Funny Thing Feels Right California Heaven - Medasin Remix I Was Sad Last Night I'm OK Now Outstanding (feat. 21 Savage) Gates to the Sun (POLLEN Singles) Lost Sober Water - FKJ Remix Cereal (feat. Kenny Mason) Wake Up Juliet &amp; Caesar (Wacomo Remix) Douha (Mali Mali) (Edit) Slow Down Love (feat. Chelsea Cutler) ADDYS (feat. Nechie) Ridin Strikers Snake Somebody Kill Me Please (Wedding Singer) Rare Pink + White Lottery (Renegade) TOES (feat. Lil Baby &amp; Moneybagg Yo) BIG Here Comes A Feeling (with Naomi Wild &amp; Couros) Tom Ford Venice Venture Look At Her Now Walls Down Dip Behind Barz - Bonus Mad (feat. Lil Wayne) Dance Monkey Pull Up Time Tick I'm No Magician (feat. Love, Alexa) Rembrandt...Run It Back (with JID &amp; J. Cole feat. Vince Staples) Fukk Sleep (feat. FKA twigs) Hey Up There (feat. Ty Dolla $ign) Together D.R.E.A.M. (feat. Ghostface Killah) BIGBRIGHT ...</td>\n",
       "    </tr>\n",
       "    <tr>\n",
       "      <th>3</th>\n",
       "      <td>The Mission Superstar (feat. Matthew Santos) Get Into It (Yuh) Levitating XXL Meat Grinder GANG GANG (with Lil Wayne) Brave (feat. Dakk &amp; EVAN GIIA) Key to the Streets (Remix) Feelin' Peachy Break in the Action RAPSTAR THat Part Overtime Mystery Lady (feat. Don Toliver) Run It Up (feat. Offset &amp; Moneybagg Yo) Solid (feat. Drake) Quicksand Company (feat. Future) Lets Ride BUZZCUT (feat. Danny Brown) MONTERO (Call Me By Your Name) Lost In America Whoopty Hooped CUT EM IN (feat. Rick Ross) Jet Fuel Christopher Walking Hello (feat. A Boogie Wit da Hoodie) She Knows This WHATS POPPIN (feat. DaBaby, Tory Lanez &amp; Lil Wayne) - Remix HOLIDAY TKN (feat. Travis Scott) FRANCHISE (feat. Young Thug &amp; M.I.A.) Moonwalking in Calabasas (feat. Blueface) - Remix Throw It In 2012 B.Q.E Stuntin' On You (feat. DaBaby) t h e . c l i m b . b a c k Concrete Boys Baguetti (with JID &amp; Kenny Beats) POPSTAR (feat. Drake) End Of Daze (with EARTHGANG &amp; JID feat. Jurdan Bryant, Mereba &amp; Hollywood JB) Smile Saturn...</td>\n",
       "    </tr>\n",
       "    <tr>\n",
       "      <th>4</th>\n",
       "      <td>Jail Candy Wrappers 4 Da Kidz Dolce &amp; Gabbana - Slowed RUNITUP (feat. Teezo Touchdown) 4U Xmen Pure Pressure (feat. Tove Lo) Show Out (with Skepta &amp; Pop Smoke) Float Backstage Pass (with Monte Booker &amp; The Drums) Politics &amp; Violence MODUS High Hopes (feat. Omar Apollo) Crystals Joy Saint Laurenttt You're Too Precious LOYAL (feat. Drake) Hurry 2.0 Runaway Weekend Friend Maybes - RAC Mix Reborn Water Beaucoup (feat. Mick Jenkins) Love You Nice To Have Some Other Way Social Jungle - Hippie Sabotage Remix At Fault Only Be Me Jewel Nothing Left (feat. Deb Never &amp; Shlohmo) World Wide Web Whatever Comes to Mind Too Many Gods Warm Winds (feat. Isaiah Rashad) All I Need Pearl Cadillac Heaven Trouble Mile High Stay I'll Come Too To The Bag All The Time 2 Devil Eyes WANTED U Stupid World (feat. Bibi Bourelly) 4AM ATTENTION YEAH RIGHT YEAH RIGHT Vertigo Dreams Hot Heavy Summer Comfortable Heart Of A Lion (Kid Cudi Theme Music) GHOST Feels Like Summer All Along Endless Love - From \"The Endless ...</td>\n",
       "    </tr>\n",
       "    <tr>\n",
       "      <th>5</th>\n",
       "      <td>Believe What I Say Racks to the Ceiling family ties (with Kendrick Lamar) My Potna Dem REPEAT IT (with Gunna) SUVs (Black on Black) Space Hos LEMONHEAD (feat. 42 Dugg) JUGGERNAUT (feat. Lil Uzi Vert &amp; Pharrell Williams) Rollin Stone Ball If I Want To 30 Hours Dumb It Down (feat. GemStones &amp; Graham Burris) Everybody Loves You So Strange Sky Tookie Knows II Beat Box 3 (feat. DaBaby) 1v1 Rust Grammys Cry Baby (feat. DaBaby) Slidin Point Photograph SMASH PRACTICE Took Her To The O Long Beach ORANGE SODA Tank MAZEL TOV IN-TO-IT NBAYOUNGBOAT I'm Fucked Up Off My Chest (feat. Lil Pump) Pop Shit ROCKSTAR BIKERS &amp; CHAINS Flick It Up 100 Shooters (feat. Meek Mill &amp; Doe Boy) Landed Birds In The Bando Two Shots Wild Dogs No Flag (feat. Nicki Minaj, 21 Savage &amp; Offset) m.A.A.d city Talk Peta (feat. Meek Mill) Ripstick Tip Toe (feat. A Boogie Wit da Hoodie) Hop Off A Jet (feat. Travis Scott) Futsal Shuffle 2020 Wells Fargo (with JID &amp; EARTHGANG feat. Buddy &amp; Guapdad 4000) - Interlude Quits Follo...</td>\n",
       "    </tr>\n",
       "    <tr>\n",
       "      <th>6</th>\n",
       "      <td>After The Storm (feat. Tyler, The Creator &amp; Bootsy Collins) Freaking Out The Neighborhood Take My Breath You Right Y DON'T U Rasputin DARE Renegades Of Funk From These Heights Blinding Lights Around the World Grey Area Save Your Tears Friday (feat. Mufasa &amp; Hypeman) - Dopamine Re-Edit Дискотека / Discoteque Only For You - Tennyson Remix Sardar Delicate - Seeb Remix Sexotheque Falling For You with Justin Bieber Is It True Roses - Imanbek Remix sadder badder cooler - Banx &amp; Ranx Remix Pelota Connaissais de Face Time (You and I) Clean Kill Kitchen No Idea - Crooked Colours Remix Slow Down (feat. Jorja Smith) - Vintage Culture &amp; Slow Motion Remix Misunderstood The Difference - Extended Face Fisted Dreams - 2004 Remaster Tondo Delete Forever Speed Me Up (with Ty Dolla $ign, Lil Yachty &amp; Sueco the Child) Feel It Still Lost In Yesterday What You Know White Mercedes - EDX's Miami Sunset Remix Whatcha Gon Do - QUIX Remix Blinding Lights Midnight Hour with Boys Noize &amp; Ty Dolla $ign Anything...</td>\n",
       "    </tr>\n",
       "  </tbody>\n",
       "</table>\n",
       "</div>"
      ],
      "text/plain": [
       "                                                                                                                                                                                                                                                                                                                                                                                                                                                                                                                                                                                                                                                                                                                                                                                                                                                                                                                                                                                                                           songNamesString\n",
       "0  Jail pt 2 good 4 u Don’t Go (with Justin Bieber & Don Toliver) No Limit Need To Know Miss The Rage (feat. Playboi Carti) HEADY Love/Paranoia Patagonia Love Lies (with Normani) TIME FOR YOU Slide Away 3, 2, 1 Some Things Never Change Wolves What’s Next Bad Boy (with Young Thug) Vetement Socks Stars In The Sky (feat. Jhené Aiko) Sweater Weather Lemonade Conversations Habit Cardigan Anything Can Happen (feat. Meek Mill) Señorita Turn Me Down - Dark Heart Remix Call Out My Name HAD ENOUGH (feat. Quavo & Offset) Crawling Why I Love You It Gets Better NOBODY FALLS Temporary Insanity CAROUSEL Us and Them Divide (feat. Kelsey Bulkin) Memories Sunflower - Spider-Man: Into the Spider-Verse Money In The Grave (Drake ft. Rick Ross) Baby Sitter (feat. Offset) Under Enemy Arms Wait Up Go Loko (feat. Tyga, Jon Z) Love Galore Cry Wasteland I XTCY Chi Chi (feat. Chris Brown) NO BYSTANDERS Alley-Oop (feat. iDA HAWK) Women 6's to 9's (feat. Rationale) Sundress Just Friends Chanel (feat. Swae Lee & Ph...\n",
       "1  Remote Control I'm Just Snacking Sept. 16 Just For Me (feat. SZA) - Space Jam: A New Legacy Calabria (feat. Lujavo & Nito-Onna) For Aisha (Featured in \"The Sky Is Pink\") Trenches Thunderstruck Don't Speak Karma & Friends Butterflies (with Starrah & Four Tet) Groovy Tony / Eddie Kane Diamonds Dancing (feat. Travis Scott) Around Ark Love Is a Battlefield Only Wanna Be With You - Pokémon 25 Version Runnin Spotlight Elsie's Baby Boy (flashback) SQUARE UP (feat. Juicy J) Wonder Tick Tock Heavy Hearted ZZZ's High Right Now (feat. Wiz Khalifa) - Remix Right Time - Ferreck Dawn Remix The Machine Blue Train Lines Tide Pen (feat. Jack Harlow) More Than You Thought Turning - Flume Remix Pop Shit Harlem Shake (feat. Young Thug) Tokyo Drifting (with Denzel Curry) Heaven Or Hell Are You Feeling Sad? After Hours Rollin' Stone All Yours Dancin (feat. Luvli) - Krono Remix Female Energy, Part 2 Everlong Crash Into Me - Settle Down Steavis Aoki Remix Safety (feat. DJ Snake) - Dark Heart 2am Mix WHAT ...\n",
       "2  TSU Options (feat. JID) 24 (feat. Lil Baby) Rare MASSA Kielbasa Marigold ROLLIN N CONTROLLIN FREESTYLE Goodie Bag Cookie Chips Funny Thing Feels Right California Heaven - Medasin Remix I Was Sad Last Night I'm OK Now Outstanding (feat. 21 Savage) Gates to the Sun (POLLEN Singles) Lost Sober Water - FKJ Remix Cereal (feat. Kenny Mason) Wake Up Juliet & Caesar (Wacomo Remix) Douha (Mali Mali) (Edit) Slow Down Love (feat. Chelsea Cutler) ADDYS (feat. Nechie) Ridin Strikers Snake Somebody Kill Me Please (Wedding Singer) Rare Pink + White Lottery (Renegade) TOES (feat. Lil Baby & Moneybagg Yo) BIG Here Comes A Feeling (with Naomi Wild & Couros) Tom Ford Venice Venture Look At Her Now Walls Down Dip Behind Barz - Bonus Mad (feat. Lil Wayne) Dance Monkey Pull Up Time Tick I'm No Magician (feat. Love, Alexa) Rembrandt...Run It Back (with JID & J. Cole feat. Vince Staples) Fukk Sleep (feat. FKA twigs) Hey Up There (feat. Ty Dolla $ign) Together D.R.E.A.M. (feat. Ghostface Killah) BIGBRIGHT ...\n",
       "3  The Mission Superstar (feat. Matthew Santos) Get Into It (Yuh) Levitating XXL Meat Grinder GANG GANG (with Lil Wayne) Brave (feat. Dakk & EVAN GIIA) Key to the Streets (Remix) Feelin' Peachy Break in the Action RAPSTAR THat Part Overtime Mystery Lady (feat. Don Toliver) Run It Up (feat. Offset & Moneybagg Yo) Solid (feat. Drake) Quicksand Company (feat. Future) Lets Ride BUZZCUT (feat. Danny Brown) MONTERO (Call Me By Your Name) Lost In America Whoopty Hooped CUT EM IN (feat. Rick Ross) Jet Fuel Christopher Walking Hello (feat. A Boogie Wit da Hoodie) She Knows This WHATS POPPIN (feat. DaBaby, Tory Lanez & Lil Wayne) - Remix HOLIDAY TKN (feat. Travis Scott) FRANCHISE (feat. Young Thug & M.I.A.) Moonwalking in Calabasas (feat. Blueface) - Remix Throw It In 2012 B.Q.E Stuntin' On You (feat. DaBaby) t h e . c l i m b . b a c k Concrete Boys Baguetti (with JID & Kenny Beats) POPSTAR (feat. Drake) End Of Daze (with EARTHGANG & JID feat. Jurdan Bryant, Mereba & Hollywood JB) Smile Saturn...\n",
       "4  Jail Candy Wrappers 4 Da Kidz Dolce & Gabbana - Slowed RUNITUP (feat. Teezo Touchdown) 4U Xmen Pure Pressure (feat. Tove Lo) Show Out (with Skepta & Pop Smoke) Float Backstage Pass (with Monte Booker & The Drums) Politics & Violence MODUS High Hopes (feat. Omar Apollo) Crystals Joy Saint Laurenttt You're Too Precious LOYAL (feat. Drake) Hurry 2.0 Runaway Weekend Friend Maybes - RAC Mix Reborn Water Beaucoup (feat. Mick Jenkins) Love You Nice To Have Some Other Way Social Jungle - Hippie Sabotage Remix At Fault Only Be Me Jewel Nothing Left (feat. Deb Never & Shlohmo) World Wide Web Whatever Comes to Mind Too Many Gods Warm Winds (feat. Isaiah Rashad) All I Need Pearl Cadillac Heaven Trouble Mile High Stay I'll Come Too To The Bag All The Time 2 Devil Eyes WANTED U Stupid World (feat. Bibi Bourelly) 4AM ATTENTION YEAH RIGHT YEAH RIGHT Vertigo Dreams Hot Heavy Summer Comfortable Heart Of A Lion (Kid Cudi Theme Music) GHOST Feels Like Summer All Along Endless Love - From \"The Endless ...\n",
       "5  Believe What I Say Racks to the Ceiling family ties (with Kendrick Lamar) My Potna Dem REPEAT IT (with Gunna) SUVs (Black on Black) Space Hos LEMONHEAD (feat. 42 Dugg) JUGGERNAUT (feat. Lil Uzi Vert & Pharrell Williams) Rollin Stone Ball If I Want To 30 Hours Dumb It Down (feat. GemStones & Graham Burris) Everybody Loves You So Strange Sky Tookie Knows II Beat Box 3 (feat. DaBaby) 1v1 Rust Grammys Cry Baby (feat. DaBaby) Slidin Point Photograph SMASH PRACTICE Took Her To The O Long Beach ORANGE SODA Tank MAZEL TOV IN-TO-IT NBAYOUNGBOAT I'm Fucked Up Off My Chest (feat. Lil Pump) Pop Shit ROCKSTAR BIKERS & CHAINS Flick It Up 100 Shooters (feat. Meek Mill & Doe Boy) Landed Birds In The Bando Two Shots Wild Dogs No Flag (feat. Nicki Minaj, 21 Savage & Offset) m.A.A.d city Talk Peta (feat. Meek Mill) Ripstick Tip Toe (feat. A Boogie Wit da Hoodie) Hop Off A Jet (feat. Travis Scott) Futsal Shuffle 2020 Wells Fargo (with JID & EARTHGANG feat. Buddy & Guapdad 4000) - Interlude Quits Follo...\n",
       "6  After The Storm (feat. Tyler, The Creator & Bootsy Collins) Freaking Out The Neighborhood Take My Breath You Right Y DON'T U Rasputin DARE Renegades Of Funk From These Heights Blinding Lights Around the World Grey Area Save Your Tears Friday (feat. Mufasa & Hypeman) - Dopamine Re-Edit Дискотека / Discoteque Only For You - Tennyson Remix Sardar Delicate - Seeb Remix Sexotheque Falling For You with Justin Bieber Is It True Roses - Imanbek Remix sadder badder cooler - Banx & Ranx Remix Pelota Connaissais de Face Time (You and I) Clean Kill Kitchen No Idea - Crooked Colours Remix Slow Down (feat. Jorja Smith) - Vintage Culture & Slow Motion Remix Misunderstood The Difference - Extended Face Fisted Dreams - 2004 Remaster Tondo Delete Forever Speed Me Up (with Ty Dolla $ign, Lil Yachty & Sueco the Child) Feel It Still Lost In Yesterday What You Know White Mercedes - EDX's Miami Sunset Remix Whatcha Gon Do - QUIX Remix Blinding Lights Midnight Hour with Boys Noize & Ty Dolla $ign Anything..."
      ]
     },
     "execution_count": 36,
     "metadata": {},
     "output_type": "execute_result"
    }
   ],
   "source": [
    "pd.set_option('display.max_colwidth', 1000)\n",
    "songStringDF"
   ]
  },
  {
   "cell_type": "markdown",
   "id": "7a69e368",
   "metadata": {},
   "source": [
    "Prep for document Term matrix.\n",
    "Text cleaning involves importing RegularExpression library and string library."
   ]
  },
  {
   "cell_type": "code",
   "execution_count": 37,
   "id": "38ca6018",
   "metadata": {},
   "outputs": [],
   "source": [
    "import re\n",
    "import string\n",
    "\n",
    "def clean_text_round1(text):\n",
    "    '''Make text lowercase, remove text in square brackets, remove punctuation and remove words containing numbers.'''\n",
    "    text = text.lower()\n",
    "    text = re.sub('\\([^)]*\\)','',text)\n",
    "    text = re.sub('\\[.*?\\]', '', text)\n",
    "    text = re.sub('[%s]' % re.escape(string.punctuation), '', text)\n",
    "    text = re.sub('\\w*\\d\\w*', '', text)\n",
    "    return text\n",
    "\n",
    "round1 = lambda x: clean_text_round1(x)"
   ]
  },
  {
   "cell_type": "code",
   "execution_count": 38,
   "id": "c6eecf23",
   "metadata": {},
   "outputs": [
    {
     "data": {
      "text/html": [
       "<div>\n",
       "<style scoped>\n",
       "    .dataframe tbody tr th:only-of-type {\n",
       "        vertical-align: middle;\n",
       "    }\n",
       "\n",
       "    .dataframe tbody tr th {\n",
       "        vertical-align: top;\n",
       "    }\n",
       "\n",
       "    .dataframe thead th {\n",
       "        text-align: right;\n",
       "    }\n",
       "</style>\n",
       "<table border=\"1\" class=\"dataframe\">\n",
       "  <thead>\n",
       "    <tr style=\"text-align: right;\">\n",
       "      <th></th>\n",
       "      <th>songNamesString</th>\n",
       "    </tr>\n",
       "  </thead>\n",
       "  <tbody>\n",
       "    <tr>\n",
       "      <th>0</th>\n",
       "      <td>jail pt  good  u don’t go  no limit need to know miss the rage  heady loveparanoia patagonia love lies  time for you slide away    some things never change wolves what’s next bad boy  vetement socks stars in the sky  sweater weather lemonade conversations habit cardigan anything can happen  señorita turn me down  dark heart remix call out my name had enough  crawling why i love you it gets better nobody falls temporary insanity carousel us and them divide  memories sunflower  spiderman into the spiderverse money in the grave  baby sitter  under enemy arms wait up go loko  love galore cry wasteland i xtcy chi chi  no bystanders alleyoop  women  to   sundress just friends chanel   from jxmtro calling my spirit where u from leave me alone falls  kaskade remix nice little talks celebrity crush heisman twin turbo the shine  houstonfornication see me world rage blame oh i  takin shots aries  part   internet byob attack worry no more everyday cute  recorded at spotify studios nyc all the ...</td>\n",
       "    </tr>\n",
       "    <tr>\n",
       "      <th>1</th>\n",
       "      <td>remote control im just snacking sept  just for me   space jam a new legacy calabria  for aisha  trenches thunderstruck dont speak karma  friends butterflies  groovy tony  eddie kane diamonds dancing  around ark love is a battlefield only wanna be with you  pokémon  version runnin spotlight elsies baby boy  square up  wonder tick tock heavy hearted zzzs high right now   remix right time  ferreck dawn remix the machine blue train lines tide pen  more than you thought turning  flume remix pop shit harlem shake  tokyo drifting  heaven or hell are you feeling sad after hours rollin stone all yours dancin   krono remix female energy part  everlong crash into me  settle down steavis aoki remix safety   dark heart  mix what to do  welcome to chilis heartless who gon stop me beach is better peanut butter jelly blur  felix cartal remix it might be time two high memories that you call   odesza  golden features vip remix open wound  highest in the room my girls no idea violence kaleidoscope  w...</td>\n",
       "    </tr>\n",
       "    <tr>\n",
       "      <th>2</th>\n",
       "      <td>tsu options    rare massa kielbasa marigold rollin n controllin freestyle goodie bag cookie chips funny thing feels right california heaven  medasin remix i was sad last night im ok now outstanding  gates to the sun  lost sober water  fkj remix cereal  wake up juliet  caesar  douha   slow down love  addys  ridin strikers snake somebody kill me please  rare pink  white lottery  toes  big here comes a feeling  tom ford venice venture look at her now walls down dip behind barz  bonus mad  dance monkey pull up time tick im no magician  rembrandtrun it back  fukk sleep  hey up there  together dream  bigbright  numb numb juice  phones miss charlotte how did i get here  you world or myself trojan horse coupe i’m never gonna let you down again luzon verizon affection blood another sad love song museums how do u feel  thru it all  remix cold shoulder space cadet  restoration   kung fu drunk mess knock knock whole lotta guap no heart boca raton  from here work for you  clout  moonlight its s...</td>\n",
       "    </tr>\n",
       "    <tr>\n",
       "      <th>3</th>\n",
       "      <td>the mission superstar  get into it  levitating xxl meat grinder gang gang  brave  key to the streets  feelin peachy break in the action rapstar that part overtime mystery lady  run it up  solid  quicksand company  lets ride buzzcut  montero  lost in america whoopty hooped cut em in  jet fuel christopher walking hello  she knows this whats poppin   remix holiday tkn  franchise  moonwalking in calabasas   remix throw it in  bqe stuntin on you  t h e  c l i m b  b a c k concrete boys baguetti  popstar  end of daze  smile saturn real rap yung hustla  shine cooler than a bitch  splitwhole time pain   no sleep posted with demons trapped in the sun touché i got money now  hit shimmy flip the switch  know you know  mama mia  video girl fried for the night yummy you got it life is good  what i please  the box lftff la la hate  westside bop cc  outta mumbai ego check häagen dazs proofread  vibez jollof rice  staring at the sun  bad bad bad  panini boy bye hot  get lucky   radio edit the beep...</td>\n",
       "    </tr>\n",
       "    <tr>\n",
       "      <th>4</th>\n",
       "      <td>jail candy wrappers  da kidz dolce  gabbana  slowed runitup   xmen pure pressure  show out  float backstage pass  politics  violence modus high hopes  crystals joy saint laurenttt youre too precious loyal  hurry  runaway weekend friend maybes  rac mix reborn water beaucoup  love you nice to have some other way social jungle  hippie sabotage remix at fault only be me jewel nothing left  world wide web whatever comes to mind too many gods warm winds  all i need pearl cadillac heaven trouble mile high stay ill come too to the bag all the time  devil eyes wanted u stupid world   attention yeah right yeah right vertigo dreams hot heavy summer comfortable heart of a lion  ghost feels like summer all along endless love  from the endless love soundtrack night falls down otw spoil my night  tadow vibin out need you window zuki anyone who knows what love is  will he  i dont wanna waste my time sleep like owls cherry hill lay me down  flume remix indica la roux no one  empty room  cabu remix ...</td>\n",
       "    </tr>\n",
       "    <tr>\n",
       "      <th>5</th>\n",
       "      <td>believe what i say racks to the ceiling family ties  my potna dem repeat it  suvs  space hos lemonhead  juggernaut  rollin stone ball if i want to  hours dumb it down  everybody loves you so strange sky tookie knows ii beat box    rust grammys cry baby  slidin point photograph smash practice took her to the o long beach orange soda tank mazel tov intoit nbayoungboat im fucked up off my chest  pop shit rockstar bikers  chains flick it up  shooters  landed birds in the bando two shots wild dogs no flag  maad city talk peta  ripstick tip toe  hop off a jet  futsal shuffle  wells fargo   interlude quits follow god old money raw shit  crash weekend  light it up whats the move  lambotruck  bang tap  down bad  underwear simba dark things mall map water  move that dope  walk  a bay bay  old town road two cups  have mercy nigga needs wont believe  swoosh me up sad still pure water  something new  off deez  slick talk see today westbrook  lord pretty flacko jodye   too hotty alright middle c...</td>\n",
       "    </tr>\n",
       "    <tr>\n",
       "      <th>6</th>\n",
       "      <td>after the storm  freaking out the neighborhood take my breath you right y dont u rasputin dare renegades of funk from these heights blinding lights around the world grey area save your tears friday   dopamine reedit дискотека  discoteque only for you  tennyson remix sardar delicate  seeb remix sexotheque falling for you with justin bieber is it true roses  imanbek remix sadder badder cooler  banx  ranx remix pelota connaissais de face time  clean kill kitchen no idea  crooked colours remix slow down   vintage culture  slow motion remix misunderstood the difference  extended face fisted dreams   remaster tondo delete forever speed me up  feel it still lost in yesterday what you know white mercedes  edxs miami sunset remix whatcha gon do  quix remix blinding lights midnight hour with boys noize  ty dolla ign anything in my room picasso baby mas y mas daddi  reggie watts remix solstice rocket fuel  circles american boy  brooks remix  extended the game of love   main  radio mix zulu sc...</td>\n",
       "    </tr>\n",
       "  </tbody>\n",
       "</table>\n",
       "</div>"
      ],
      "text/plain": [
       "                                                                                                                                                                                                                                                                                                                                                                                                                                                                                                                                                                                                                                                                                                                                                                                                                                                                                                                                                                                                                           songNamesString\n",
       "0  jail pt  good  u don’t go  no limit need to know miss the rage  heady loveparanoia patagonia love lies  time for you slide away    some things never change wolves what’s next bad boy  vetement socks stars in the sky  sweater weather lemonade conversations habit cardigan anything can happen  señorita turn me down  dark heart remix call out my name had enough  crawling why i love you it gets better nobody falls temporary insanity carousel us and them divide  memories sunflower  spiderman into the spiderverse money in the grave  baby sitter  under enemy arms wait up go loko  love galore cry wasteland i xtcy chi chi  no bystanders alleyoop  women  to   sundress just friends chanel   from jxmtro calling my spirit where u from leave me alone falls  kaskade remix nice little talks celebrity crush heisman twin turbo the shine  houstonfornication see me world rage blame oh i  takin shots aries  part   internet byob attack worry no more everyday cute  recorded at spotify studios nyc all the ...\n",
       "1  remote control im just snacking sept  just for me   space jam a new legacy calabria  for aisha  trenches thunderstruck dont speak karma  friends butterflies  groovy tony  eddie kane diamonds dancing  around ark love is a battlefield only wanna be with you  pokémon  version runnin spotlight elsies baby boy  square up  wonder tick tock heavy hearted zzzs high right now   remix right time  ferreck dawn remix the machine blue train lines tide pen  more than you thought turning  flume remix pop shit harlem shake  tokyo drifting  heaven or hell are you feeling sad after hours rollin stone all yours dancin   krono remix female energy part  everlong crash into me  settle down steavis aoki remix safety   dark heart  mix what to do  welcome to chilis heartless who gon stop me beach is better peanut butter jelly blur  felix cartal remix it might be time two high memories that you call   odesza  golden features vip remix open wound  highest in the room my girls no idea violence kaleidoscope  w...\n",
       "2  tsu options    rare massa kielbasa marigold rollin n controllin freestyle goodie bag cookie chips funny thing feels right california heaven  medasin remix i was sad last night im ok now outstanding  gates to the sun  lost sober water  fkj remix cereal  wake up juliet  caesar  douha   slow down love  addys  ridin strikers snake somebody kill me please  rare pink  white lottery  toes  big here comes a feeling  tom ford venice venture look at her now walls down dip behind barz  bonus mad  dance monkey pull up time tick im no magician  rembrandtrun it back  fukk sleep  hey up there  together dream  bigbright  numb numb juice  phones miss charlotte how did i get here  you world or myself trojan horse coupe i’m never gonna let you down again luzon verizon affection blood another sad love song museums how do u feel  thru it all  remix cold shoulder space cadet  restoration   kung fu drunk mess knock knock whole lotta guap no heart boca raton  from here work for you  clout  moonlight its s...\n",
       "3  the mission superstar  get into it  levitating xxl meat grinder gang gang  brave  key to the streets  feelin peachy break in the action rapstar that part overtime mystery lady  run it up  solid  quicksand company  lets ride buzzcut  montero  lost in america whoopty hooped cut em in  jet fuel christopher walking hello  she knows this whats poppin   remix holiday tkn  franchise  moonwalking in calabasas   remix throw it in  bqe stuntin on you  t h e  c l i m b  b a c k concrete boys baguetti  popstar  end of daze  smile saturn real rap yung hustla  shine cooler than a bitch  splitwhole time pain   no sleep posted with demons trapped in the sun touché i got money now  hit shimmy flip the switch  know you know  mama mia  video girl fried for the night yummy you got it life is good  what i please  the box lftff la la hate  westside bop cc  outta mumbai ego check häagen dazs proofread  vibez jollof rice  staring at the sun  bad bad bad  panini boy bye hot  get lucky   radio edit the beep...\n",
       "4  jail candy wrappers  da kidz dolce  gabbana  slowed runitup   xmen pure pressure  show out  float backstage pass  politics  violence modus high hopes  crystals joy saint laurenttt youre too precious loyal  hurry  runaway weekend friend maybes  rac mix reborn water beaucoup  love you nice to have some other way social jungle  hippie sabotage remix at fault only be me jewel nothing left  world wide web whatever comes to mind too many gods warm winds  all i need pearl cadillac heaven trouble mile high stay ill come too to the bag all the time  devil eyes wanted u stupid world   attention yeah right yeah right vertigo dreams hot heavy summer comfortable heart of a lion  ghost feels like summer all along endless love  from the endless love soundtrack night falls down otw spoil my night  tadow vibin out need you window zuki anyone who knows what love is  will he  i dont wanna waste my time sleep like owls cherry hill lay me down  flume remix indica la roux no one  empty room  cabu remix ...\n",
       "5  believe what i say racks to the ceiling family ties  my potna dem repeat it  suvs  space hos lemonhead  juggernaut  rollin stone ball if i want to  hours dumb it down  everybody loves you so strange sky tookie knows ii beat box    rust grammys cry baby  slidin point photograph smash practice took her to the o long beach orange soda tank mazel tov intoit nbayoungboat im fucked up off my chest  pop shit rockstar bikers  chains flick it up  shooters  landed birds in the bando two shots wild dogs no flag  maad city talk peta  ripstick tip toe  hop off a jet  futsal shuffle  wells fargo   interlude quits follow god old money raw shit  crash weekend  light it up whats the move  lambotruck  bang tap  down bad  underwear simba dark things mall map water  move that dope  walk  a bay bay  old town road two cups  have mercy nigga needs wont believe  swoosh me up sad still pure water  something new  off deez  slick talk see today westbrook  lord pretty flacko jodye   too hotty alright middle c...\n",
       "6  after the storm  freaking out the neighborhood take my breath you right y dont u rasputin dare renegades of funk from these heights blinding lights around the world grey area save your tears friday   dopamine reedit дискотека  discoteque only for you  tennyson remix sardar delicate  seeb remix sexotheque falling for you with justin bieber is it true roses  imanbek remix sadder badder cooler  banx  ranx remix pelota connaissais de face time  clean kill kitchen no idea  crooked colours remix slow down   vintage culture  slow motion remix misunderstood the difference  extended face fisted dreams   remaster tondo delete forever speed me up  feel it still lost in yesterday what you know white mercedes  edxs miami sunset remix whatcha gon do  quix remix blinding lights midnight hour with boys noize  ty dolla ign anything in my room picasso baby mas y mas daddi  reggie watts remix solstice rocket fuel  circles american boy  brooks remix  extended the game of love   main  radio mix zulu sc..."
      ]
     },
     "execution_count": 38,
     "metadata": {},
     "output_type": "execute_result"
    }
   ],
   "source": [
    "data_clean = pd.DataFrame(songStringDF.songNamesString.apply(round1))\n",
    "data_clean"
   ]
  },
  {
   "cell_type": "code",
   "execution_count": null,
   "id": "81227b8a",
   "metadata": {},
   "outputs": [],
   "source": []
  },
  {
   "cell_type": "code",
   "execution_count": null,
   "id": "01ef6948",
   "metadata": {},
   "outputs": [],
   "source": []
  }
 ],
 "metadata": {
  "kernelspec": {
   "display_name": "Python 3",
   "language": "python",
   "name": "python3"
  },
  "language_info": {
   "codemirror_mode": {
    "name": "ipython",
    "version": 3
   },
   "file_extension": ".py",
   "mimetype": "text/x-python",
   "name": "python",
   "nbconvert_exporter": "python",
   "pygments_lexer": "ipython3",
   "version": "3.8.8"
  }
 },
 "nbformat": 4,
 "nbformat_minor": 5
}
