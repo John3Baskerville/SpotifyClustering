{
 "cells": [
  {
   "cell_type": "markdown",
   "id": "404a9837",
   "metadata": {},
   "source": [
    "Import clusterd song data and use NLP algorithms to help generate topics (Playlist Name) for each cluster. "
   ]
  },
  {
   "cell_type": "code",
   "execution_count": 1,
   "id": "a2bbde08",
   "metadata": {},
   "outputs": [],
   "source": [
    "import pandas\n",
    "songData = pandas.read_csv('songDataKProto.csv')"
   ]
  },
  {
   "cell_type": "code",
   "execution_count": 2,
   "id": "dee4a052",
   "metadata": {},
   "outputs": [],
   "source": [
    "groupby = songData.groupby('kproto')"
   ]
  },
  {
   "cell_type": "code",
   "execution_count": 3,
   "id": "a2b8d62d",
   "metadata": {},
   "outputs": [],
   "source": [
    "#get a list of cluster lables sorted\n",
    "kprotoLabels = sorted(list(songData['kproto'].unique()))\n",
    "songDict = {}\n",
    "\n",
    "#make a dictionary with key = label, value = all song names fit into one string\n",
    "for i in kprotoLabels:\n",
    "    songDict[i] = groupby.get_group(i).songName.str.cat(sep=' ')"
   ]
  },
  {
   "cell_type": "code",
   "execution_count": 4,
   "id": "5a93149a",
   "metadata": {},
   "outputs": [
    {
     "data": {
      "text/plain": [
       "'Jail pt 2 good 4 u Don’t Go (with Justin Bieber & Don Toliver) No Limit Need To Know Miss The Rage (feat. Playboi Carti) HEADY Love/Paranoia Patagonia Love Lies (with Normani) TIME FOR YOU Slide Away 3, 2, 1 Some Things Never Change Wolves What’s Next Bad Boy (with Young Thug) Vetement Socks Stars In The Sky (feat. Jhené Aiko) Sweater Weather Lemonade Conversations Habit Cardigan Anything Can Happen (feat. Meek Mill) Señorita Turn Me Down - Dark Heart Remix Call Out My Name HAD ENOUGH (feat. Quavo & Offset) Crawling Why I Love You It Gets Better NOBODY FALLS Temporary Insanity CAROUSEL Us and Them Divide (feat. Kelsey Bulkin) Memories Sunflower - Spider-Man: Into the Spider-Verse Money In The Grave (Drake ft. Rick Ross) Baby Sitter (feat. Offset) Under Enemy Arms Wait Up Go Loko (feat. Tyga, Jon Z) Love Galore Cry Wasteland I XTCY Chi Chi (feat. Chris Brown) NO BYSTANDERS Alley-Oop (feat. iDA HAWK) Women 6\\'s to 9\\'s (feat. Rationale) Sundress Just Friends Chanel (feat. Swae Lee & Pharrell) - From Jxmtro Calling My Spirit Where U From Leave Me Alone Falls - Kaskade Remix NICE Little Talks Celebrity Crush Heisman Twin Turbo The Shine (feat. Chelsea Cutler) HOUSTONFORNICATION See Me World Rage Blame Oh I (feat. Jeremih, Young Thug & Sevyn) Takin\\' Shots Aries (YuGo) Part 2 (with Rae Sremmurd & Big Sean feat. Quavo & Pharrell) Internet B.Y.O.B. Attack Worry No More Everyday Cute - Recorded at Spotify Studios NYC All The Time Hyrule Temple The Ways (with Swae Lee) Believe Music To My Ears (feat. Tory Lanez) i Shyne Some Time IDGAF Like Water (feat. MNDR) The Little Things - Kasbo Remix The Seed (2.0) Forgot About Dre The Way Life Goes (feat. Nicki Minaj & Oh Wonder) - Remix Sky Walker (feat. Travis Scott) ILL NANA (feat. Trippie Redd) Dawsin\\'s Breek (feat. Jeremih) Missed Calls Golden Dandelions - Acoustic Breakeven Need To Know Chasing Shadows Blowback Real (feat. Sarah Green) Never Be Like You Lift Me Up - Michael Brun Remix Drove U Crazy (feat. Bryson Tiller) Bambi Razzle Dazzle (feat. Future) Needed Me - Recorded at Spotify Studios NYC GOD. Better Man River LOVE. FEAT. ZACARI. Blasé (feat. Future & Rae Sremmurd) - Whethan Remix Float On Peso It Ain\\'t Me (with Selena Gomez) Ascension (feat. Vince Staples) Cold Water Stitches - Seeb Remix Wasted Youth (Michael Brun Remix) Throw Myself A Party Dreams Light Glory And Gore Tsunami Some Kind of Way Draco Congratulations sweet sweet Litty (feat. Tory Lanez) Bang Bang (feat. R. City, Selah Sue & Craig David) wonderful Sidewalks Alright Setting Fires The Mack 24K Magic Can\\'t Stop Dis Generation We The People.... You\\'ve Got The Love Tiimmy Turner - Remix How Bizarre way back through the late night Tiimmy Turner Black Beatles Grass Ain\\'t Greener 3 Wayz (feat. Travis Scott) Only U Gone (feat. Ty Dolla $ign) Fall In Love Waves In Common Like Water (feat. MNDR) Company Look Alive Show Me Love (feat. Chance The Rapper, Moses Sumney and Robin Hannibal) - Skrillex Remix Tennessee Vibration (Extended Version) I Know On Purpose (feat. Pitbull & 40 Cobras) Never Be Like You (feat. Kai) Kung Fu Work Desire Ride Golden (feat. Sia) Earned It (Fifty Shades Of Grey) - From The \"Fifty Shades Of Grey\" Soundtrack Best Friend No Sense Don\\'t Wait - Benny Blanco Remix oui Ego Carousel King Same Old Love Somebody To Love Remix Hello Here All Of The Lights Dark Fantasy Fast Car Sleepyhead Mind (feat. Kai) I Like Tuh Cheerleader (feat. Kid Ink) - Felix Jaehn vs Salaam Remi Remix IT G MA REMIX (feat. A$AP Ferg, Father, Dumbfoundead, Waka Flocka Flame) Can\\'t Feel My Face the valley Trap Queen Sherry Wagon Wheel The Birds Pt. 1 The Morning Hate Bein\\' Sober Take Me Home Tonight Shabba (feat. A$AP Rocky) Poppin\\' My Collar (feat. Project Pat) I Need Your Love (feat. Ellie Goulding) Sweet Dreams (Are Made of This) - Remastered Together (feat. Childish Gambino) A Boy Named Sue - Live at San Quentin State Prison, San Quentin, CA - February 1969 With You Alright Bound 2 Pussy is Mine Sanctified I Don\\'t Fuck With You Why I Love You I Am A Man Of Constant Sorrow - From “O Brother, Where Art Thou” Soundtrack / Radio Station Version Sober Hands On The Wheel Just What I Am Man Of The Year \"Dearly Departed\" - Live from Spotify Sxsw 2014 (feat. Esme Patterson) Studio'"
      ]
     },
     "execution_count": 4,
     "metadata": {},
     "output_type": "execute_result"
    }
   ],
   "source": [
    "songDict[0]"
   ]
  },
  {
   "cell_type": "code",
   "execution_count": null,
   "id": "1ae2205d",
   "metadata": {},
   "outputs": [],
   "source": []
  },
  {
   "cell_type": "code",
   "execution_count": null,
   "id": "5cb860ea",
   "metadata": {},
   "outputs": [],
   "source": []
  }
 ],
 "metadata": {
  "kernelspec": {
   "display_name": "Python 3",
   "language": "python",
   "name": "python3"
  },
  "language_info": {
   "codemirror_mode": {
    "name": "ipython",
    "version": 3
   },
   "file_extension": ".py",
   "mimetype": "text/x-python",
   "name": "python",
   "nbconvert_exporter": "python",
   "pygments_lexer": "ipython3",
   "version": "3.8.8"
  }
 },
 "nbformat": 4,
 "nbformat_minor": 5
}
