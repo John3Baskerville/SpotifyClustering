{
 "cells": [
  {
   "cell_type": "markdown",
   "id": "2f296d92",
   "metadata": {},
   "source": [
    "Import clusterd song data and use NLP algorithms to help generate topics (Playlist Name) for each cluster. "
   ]
  },
  {
   "cell_type": "code",
   "execution_count": 3,
   "id": "49531d89",
   "metadata": {},
   "outputs": [],
   "source": [
    "import pandas\n",
    "songData = pandas.read_csv('songDataKProto.csv')"
   ]
  },
  {
   "cell_type": "code",
   "execution_count": null,
   "id": "ce8b5007",
   "metadata": {},
   "outputs": [],
   "source": []
  }
 ],
 "metadata": {
  "kernelspec": {
   "display_name": "Python 3",
   "language": "python",
   "name": "python3"
  },
  "language_info": {
   "codemirror_mode": {
    "name": "ipython",
    "version": 3
   },
   "file_extension": ".py",
   "mimetype": "text/x-python",
   "name": "python",
   "nbconvert_exporter": "python",
   "pygments_lexer": "ipython3",
   "version": "3.8.8"
  }
 },
 "nbformat": 4,
 "nbformat_minor": 5
}
