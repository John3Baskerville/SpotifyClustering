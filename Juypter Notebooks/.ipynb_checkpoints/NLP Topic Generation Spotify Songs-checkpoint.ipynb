{
 "cells": [
  {
   "cell_type": "markdown",
   "id": "404a9837",
   "metadata": {},
   "source": [
    "Import clusterd song data and use NLP algorithms to help generate topics (Playlist Name) for each cluster. "
   ]
  },
  {
   "cell_type": "code",
   "execution_count": 6,
   "id": "a2bbde08",
   "metadata": {},
   "outputs": [],
   "source": [
    "import pandas as pd\n",
    "songData = pd.read_csv('songDataKProto.csv')"
   ]
  },
  {
   "cell_type": "code",
   "execution_count": 7,
   "id": "dee4a052",
   "metadata": {},
   "outputs": [],
   "source": [
    "groupby = songData.groupby('kproto')"
   ]
  },
  {
   "cell_type": "code",
   "execution_count": 8,
   "id": "a2b8d62d",
   "metadata": {},
   "outputs": [],
   "source": [
    "#get a list of cluster lables sorted\n",
    "kprotoLabels = sorted(list(songData['kproto'].unique()))\n",
    "songDict = {}\n",
    "\n",
    "#make a dictionary with key = label, value = all song names fit into one string\n",
    "for i in kprotoLabels:\n",
    "    songDict[i] = groupby.get_group(i).songName.str.cat(sep=' ')"
   ]
  },
  {
   "cell_type": "code",
   "execution_count": 14,
   "id": "5a93149a",
   "metadata": {},
   "outputs": [],
   "source": [
    "#songDict"
   ]
  },
  {
   "cell_type": "code",
   "execution_count": 18,
   "id": "1ae2205d",
   "metadata": {},
   "outputs": [],
   "source": [
    "songStringDF = pd.DataFrame.from_dict(songDict, orient='index')"
   ]
  },
  {
   "cell_type": "code",
   "execution_count": null,
   "id": "5cb860ea",
   "metadata": {},
   "outputs": [],
   "source": []
  }
 ],
 "metadata": {
  "kernelspec": {
   "display_name": "Python 3",
   "language": "python",
   "name": "python3"
  },
  "language_info": {
   "codemirror_mode": {
    "name": "ipython",
    "version": 3
   },
   "file_extension": ".py",
   "mimetype": "text/x-python",
   "name": "python",
   "nbconvert_exporter": "python",
   "pygments_lexer": "ipython3",
   "version": "3.8.8"
  }
 },
 "nbformat": 4,
 "nbformat_minor": 5
}
